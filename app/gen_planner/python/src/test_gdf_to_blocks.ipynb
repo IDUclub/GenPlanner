{
 "cells": [
  {
   "metadata": {},
   "cell_type": "code",
   "source": [
    "from shapely import Point\n",
    "%load_ext autoreload\n",
    "%autoreload 2\n",
    "\n",
    "from app.gen_planner.python.src.utils import territory_splitter\n",
    "from app.gen_planner.python.src import GenPlanner\n",
    "import geopandas as gpd"
   ],
   "id": "a9fc7df4c80e563e",
   "outputs": [],
   "execution_count": null
  },
  {
   "metadata": {},
   "cell_type": "code",
   "source": [
    "from app.gen_planner.python.src import terr_zones, TerritoryZone\n",
    "\n",
    "custom_terr_zone = TerritoryZone(\n",
    "    \"custom\",\n",
    "    10_000,\n",
    ")\n",
    "territory = gpd.read_file('project ШлиссельбургMulti.geojson')\n",
    "roads = gpd.read_file('roads_shlis.geojson')\n",
    "roads.geometry = roads.to_crs(32636).buffer(2.5).to_crs(4326)\n",
    "splitted_territory = territory_splitter(territory, roads)\n",
    "splitted_territory = splitted_territory[~splitted_territory['is_splitter']]\n",
    "generated_zones, generated_roads = GenPlanner(splitted_territory).features2blocks(custom_terr_zone)"
   ],
   "id": "a288740ab70de046",
   "outputs": [],
   "execution_count": null
  },
  {
   "metadata": {},
   "cell_type": "code",
   "outputs": [],
   "execution_count": null,
   "source": [
    "from shapely import Point\n",
    "from app.gen_planner.python.src import GenPlanner\n",
    "import geopandas as gpd\n",
    "territory = gpd.read_file('project Шлиссельбург.geojson')\n",
    "zones_ratio_dict = {'zone1': 0.225, 'zone2': 0.225, 'zone3': 0.225,'zone4': 0.225,'zone5': 0.225,'zone_neighbor': 0.225, 'zone_in_middle': 0.1}\n",
    "p1 = Point(31.016774128396565, 59.917794781885405)\n",
    "p2 = Point(31.024774128396565, 59.917794781885405)\n",
    "fixed_zones = gpd.GeoDataFrame({'zone':['zone_in_middle','zone_neighbor']},geometry=[p1,p2],crs=4326)\n",
    "generated_zones, generated_roads = GenPlanner(territory,dev_mod=True).split_features(zones_ratio_dict=zones_ratio_dict,fixed_zones=fixed_zones)"
   ],
   "id": "a4545acf6c235fca"
  },
  {
   "metadata": {},
   "cell_type": "code",
   "outputs": [],
   "execution_count": null,
   "source": [
    "m1 = generated_zones.explore(tiles='Cartodb Positron',column='zone_name')\n",
    "fixed_zones.explore(m=m1,color='red')\n",
    "# generated_roads.explore(m=m1,column='road_lvl')\n",
    "m1"
   ],
   "id": "d819cd09f84cbe69"
  },
  {
   "metadata": {},
   "cell_type": "code",
   "outputs": [],
   "execution_count": null,
   "source": [
    "import pandas as pd\n",
    "import matplotlib.pyplot as plt\n",
    "\n",
    "# Загрузка данных\n",
    "df = pd.read_csv(\"conv.csv\", header=None, names=[\n",
    "    \"iter\", \"area\", \"wall\", \"topo\", \"fix\", \"lloyd\"\n",
    "])\n",
    "df[\"total\"] = df[[\"area\", \"wall\", \"topo\", \"fix\", \"lloyd\"]].sum(axis=1)\n",
    "\n",
    "# Отрисовка графика\n",
    "plt.figure(figsize=(12, 7))\n",
    "\n",
    "# Основной total loss\n",
    "plt.plot(df[\"iter\"], df[\"total\"], label=\"Total Loss\", linewidth=2, color=\"black\")\n",
    "\n",
    "# Остальные компоненты\n",
    "plt.plot(df[\"iter\"], df[\"area\"], label=\"Area\", linestyle=\"--\")\n",
    "plt.plot(df[\"iter\"], df[\"wall\"], label=\"Wall Length\", linestyle=\"--\")\n",
    "plt.plot(df[\"iter\"], df[\"topo\"], label=\"Topology\", linestyle=\"--\")\n",
    "plt.plot(df[\"iter\"], df[\"fix\"], label=\"Fix Constraints\", linestyle=\"--\")\n",
    "plt.plot(df[\"iter\"], df[\"lloyd\"], label=\"Lloyd\", linestyle=\"--\")\n",
    "\n",
    "# Оформление\n",
    "plt.xlabel(\"Iteration\")\n",
    "plt.ylabel(\"Loss\")\n",
    "plt.title(\"Convergence of Loss Terms\")\n",
    "plt.legend()\n",
    "plt.grid(True)\n",
    "plt.tight_layout()\n",
    "plt.show()\n"
   ],
   "id": "623af2d7a00ca7bf"
  },
  {
   "metadata": {},
   "cell_type": "code",
   "source": "df",
   "id": "13dc28377972f37b",
   "outputs": [],
   "execution_count": null
  },
  {
   "metadata": {},
   "cell_type": "code",
   "source": [
    "roads.geometry = roads.to_crs(32636).buffer(2).to_crs(4326)\n",
    "splitted_zones = territory_splitter(generated_zones, roads)\n",
    "splitted_zones[~splitted_zones['is_splitter']].explore(tiles='Cartodb Positron')"
   ],
   "id": "9b1fa6aa50d69695",
   "outputs": [],
   "execution_count": null
  },
  {
   "metadata": {},
   "cell_type": "code",
   "source": "splitted_territory.explore(tiles='Cartodb Positron')",
   "id": "2af09e463a27294",
   "outputs": [],
   "execution_count": null
  },
  {
   "metadata": {},
   "cell_type": "code",
   "source": [
    "from app.gen_planner.python.src import GenPlanner, basic_func_zone, func_zones\n",
    "import geopandas as gpd\n",
    "\n",
    "zones, roads = GenPlanner(gpd.read_file('project Шлиссельбург.geojson')).poly2terr2block(basic_func_zone)\n",
    "m1 = zones.explore(column='terr_zone', tiles='CartoDB positron', cmap='Dark2', categorical=True)\n",
    "roads.explore(m=m1, column='road_lvl', cmap='Dark2', categorical=True)"
   ],
   "id": "f938053d9cf86e68",
   "outputs": [],
   "execution_count": null
  },
  {
   "metadata": {},
   "cell_type": "code",
   "source": [
    "%load_ext autoreload\n",
    "%autoreload 2\n",
    "\n",
    "from app.gen_planner.python.src.utils import territory_splitter\n",
    "from app.gen_planner.python.src import GenPlanner, basic_func_zone, func_zones\n",
    "import geopandas as gpd\n",
    "\n",
    "territory = gpd.read_file('project Шлиссельбург.geojson')\n",
    "roads = gpd.read_file('roads_shlis.geojson')\n",
    "roads.geometry = roads.to_crs(32636).buffer(5).to_crs(4326)\n",
    "splitted_territory = territory_splitter(territory, roads)\n",
    "splitted_territory = splitted_territory[~splitted_territory['is_splitter']].reset_index(drop=True)\n",
    "generated_zones, generated_roads = GenPlanner(splitted_territory, dev_mod=True).features2terr_zones2block(\n",
    "    func_zones.residential_func_zone)\n",
    "\n",
    "m1 = generated_zones.explore(column='territory_zone', tiles='CartoDB positron', cmap='Dark2', categorical=True)\n",
    "generated_roads.explore(m=m1, column='road_lvl', cmap='Dark2', categorical=True)"
   ],
   "id": "e3f83580fe8245d7",
   "outputs": [],
   "execution_count": null
  },
  {
   "metadata": {},
   "cell_type": "code",
   "source": [
    "generated_zones[generated_zones['proxy'].isna()].explore(column='territory_zone', tiles='CartoDB positron',\n",
    "                                                         cmap='Dark2', categorical=True)\n"
   ],
   "id": "e2962e5d4673ffcc",
   "outputs": [],
   "execution_count": null
  },
  {
   "metadata": {},
   "cell_type": "code",
   "source": "generated_zones[generated_zones['proxy'] == 1].explore(column='zone_name')",
   "id": "6047c2552d3546b5",
   "outputs": [],
   "execution_count": null
  },
  {
   "metadata": {},
   "cell_type": "code",
   "source": "splitted_territory.explore()",
   "id": "2447edcaf14f0afb",
   "outputs": [],
   "execution_count": null
  },
  {
   "metadata": {},
   "cell_type": "code",
   "source": [
    "territory = gpd.read_file('project Шлиссельбург.geojson')\n",
    "# roads = gpd.read_file('roads_shlis.geojson')\n",
    "# roads.geometry = roads.to_crs(32636).buffer(5).to_crs(4326)\n",
    "# splitted_territory = territory_splitter(territory, roads)\n",
    "# splitted_territory = splitted_territory[~splitted_territory['is_splitter']].reset_index(drop=True)\n",
    "generated_zones, generated_roads = GenPlanner(territory, dev_mod=True).features2terr_zones2block(\n",
    "    func_zones.residential_func_zone)\n",
    "\n",
    "m1 = generated_zones.explore(column='territory_zone', tiles='CartoDB positron', cmap='Dark2', categorical=True)\n",
    "generated_roads.explore(m=m1, column='road_lvl', cmap='Dark2', categorical=True)"
   ],
   "id": "aa903ef1167d90ec",
   "outputs": [],
   "execution_count": null
  },
  {
   "metadata": {},
   "cell_type": "code",
   "source": "",
   "id": "289193122d3b6c9b",
   "outputs": [],
   "execution_count": null
  }
 ],
 "metadata": {
  "kernelspec": {
   "display_name": "Python 3",
   "language": "python",
   "name": "python3"
  },
  "language_info": {
   "codemirror_mode": {
    "name": "ipython",
    "version": 2
   },
   "file_extension": ".py",
   "mimetype": "text/x-python",
   "name": "python",
   "nbconvert_exporter": "python",
   "pygments_lexer": "ipython2",
   "version": "2.7.6"
  }
 },
 "nbformat": 4,
 "nbformat_minor": 5
}
