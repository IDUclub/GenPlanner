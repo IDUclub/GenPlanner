{
 "cells": [
  {
   "cell_type": "code",
   "id": "initial_id",
   "metadata": {
    "collapsed": true
   },
   "source": [
    "\n",
    "import pandas as pd\n",
    "\n",
    "from app.gen_planner.python.src import GenPlanner, default_terr_zones,basic_func_zone\n",
    "import geopandas as gpd\n",
    "from app.gen_planner.python.src.utils import (\n",
    "\n",
    "    territory_splitter,\n",
    ")\n",
    "\n",
    "roads = gpd.read_file('svetogorsk/roads.geojson')[['geometry']]\n",
    "existing_zones = gpd.read_file('svetogorsk/exist_terr_zones.geojson')\n",
    "territory = gpd.read_file('svetogorsk/orig_bounds.geojson')\n",
    "water = gpd.read_file('svetogorsk/water.geojson')\n",
    "rails = gpd.read_file('svetogorsk/rails.geojson')\n",
    "rails.geometry = rails.to_crs(32636).buffer(8)\n",
    "# \n",
    "exclude_features = pd.concat([water.to_crs(4326), rails.to_crs(4326)], ignore_index=True)\n",
    "\n",
    "terr_zone_map = {'Жилая зона': default_terr_zones.residential_terr,\n",
    "                 'Рекреационная зона': default_terr_zones.recreation_terr,\n",
    "                 'Промышленная зона': default_terr_zones.industrial_terr,\n",
    "                 'Особого назначения': default_terr_zones.special_terr,\n",
    "                 }\n",
    "existing_zones['territory_zone'] = existing_zones['Тип функциональной зоны'].map(terr_zone_map)\n",
    "\n",
    "gp = GenPlanner(features=territory, roads=roads, exclude_features=exclude_features, existing_terr_zones=existing_zones,\n",
    "                simplify_geometry=True, simplify_value=10,\n",
    "                parallel=True)\n"
   ],
   "outputs": [],
   "execution_count": null
  },
  {
   "metadata": {},
   "cell_type": "code",
   "source": "zones,roads = gp.features2terr_zones2blocks(basic_func_zone)",
   "id": "d924e554b1857e4f",
   "outputs": [],
   "execution_count": null
  },
  {
   "metadata": {},
   "cell_type": "code",
   "source": [
    "m1 = zones.explore(column='territory_zone', tiles='cartodb dark_matter')\n",
    "\n",
    "# roads.explore(m=m1, column='road_lvl')\n",
    "m1"
   ],
   "id": "a5255c49aac3dafd",
   "outputs": [],
   "execution_count": null
  },
  {
   "metadata": {},
   "cell_type": "code",
   "source": [
    "gp = GenPlanner(features=territory, roads=roads, exclude_features=water, existing_terr_zones=existing_zones,\n",
    "                simplify_geometry=True, simplify_value=1,\n",
    "                parallel=True)"
   ],
   "id": "5039488b584933eb",
   "outputs": [],
   "execution_count": null
  },
  {
   "metadata": {},
   "cell_type": "code",
   "source": [
    "wt = gp.territory_to_work_with.copy().reset_index()\n",
    "m1 = wt.explore(column='index', tiles='cartodb positron')\n",
    "wt.geometry = wt.geometry.segmentize(1).concave_hull(ratio=0.1)\n",
    "\n",
    "# wt.explore(m=m1, column='index')\n",
    "\n",
    "wt.explore(m=m1, column='index', tiles='cartodb positron')"
   ],
   "id": "97f93f7b4402891f",
   "outputs": [],
   "execution_count": null
  },
  {
   "metadata": {},
   "cell_type": "code",
   "source": "",
   "id": "8b925a6ba061252b",
   "outputs": [],
   "execution_count": null
  },
  {
   "metadata": {},
   "cell_type": "code",
   "source": [
    "gp = GenPlanner(features=territory,\n",
    "                exclude_features=water,\n",
    "                simplify_value=10,\n",
    "                parallel=True)\n"
   ],
   "id": "6a901529a0fafa35",
   "outputs": [],
   "execution_count": null
  },
  {
   "metadata": {},
   "cell_type": "code",
   "source": "",
   "id": "a289cc3993745904",
   "outputs": [],
   "execution_count": null
  },
  {
   "metadata": {},
   "cell_type": "code",
   "source": "gp.territory_to_work_with.explore()",
   "id": "5e25907684535c5c",
   "outputs": [],
   "execution_count": null
  },
  {
   "metadata": {},
   "cell_type": "code",
   "source": "gdf1.explore()",
   "id": "f1dab469e9b98294",
   "outputs": [],
   "execution_count": null
  },
  {
   "metadata": {},
   "cell_type": "code",
   "source": [
    "m1 = gdf1.to_crs(32635).explore(column='territory_zone', tiles='cartodb positron')\n",
    "gdf2.explore(m=m1)"
   ],
   "id": "48dfd892b85f9441",
   "outputs": [],
   "execution_count": null
  },
  {
   "metadata": {},
   "cell_type": "code",
   "source": [
    "m1 = pd.concat(\n",
    "    [gp.existing_terr_zones.to_crs(32635).rename(columns={'terr_zone': 'territory_zone'}), gdf1.to_crs(32635)],\n",
    "    ignore_index=True).explore(column='territory_zone', tiles='cartodb positron')\n",
    "gdf2.explore(m=m1)"
   ],
   "id": "629225360d52619a",
   "outputs": [],
   "execution_count": null
  },
  {
   "metadata": {},
   "cell_type": "code",
   "source": "roads.explore()",
   "id": "e32476ee1eb959e3",
   "outputs": [],
   "execution_count": null
  },
  {
   "metadata": {},
   "cell_type": "code",
   "source": [
    "m1 = gp.existing_terr_zones.explore(column='terr_zone', tiles='cartodb positron')\n",
    "gdf1.explore(m=m1, column='territory_zone_name')"
   ],
   "id": "2e2ea682b76dde22",
   "outputs": [],
   "execution_count": null
  },
  {
   "metadata": {},
   "cell_type": "code",
   "source": [
    "\n",
    "gdf = terr.copy()\n",
    "local_crs = gdf.crs\n",
    "existing_terr_zones = existing_zones[['terr_zone', 'geometry']].copy()\n",
    "\n",
    "existing_terr_zones = existing_terr_zones.to_crs(local_crs)\n",
    "existing_terr_zones = existing_terr_zones.clip(gdf)\n",
    "\n",
    "# self.existing_terr_zones = existing_terr_zones\n",
    "splitted_territory = territory_splitter(gdf, existing_terr_zones, return_splitters=True).reset_index(drop=True)\n",
    "\n",
    "splitted_territory['existing_area'] = splitted_territory.area\n",
    "splitted_territory.geometry = splitted_territory.representative_point()\n",
    "splitted_territory = splitted_territory.sjoin(existing_terr_zones, how='left').rename(\n",
    "    columns={'index_right': 'existing_zone_index'})\n",
    "splitted_territory = splitted_territory[~splitted_territory['terr_zone'].isna()]\n",
    "\n",
    "gdf['full_area'] = gdf.area\n",
    "potential = gdf.sjoin(splitted_territory, how='left')\n",
    "potential = potential[~potential['terr_zone'].isna()]\n",
    "potential['ratio'] = (potential['existing_area'] / potential['full_area']).round(2)\n",
    "consistent_idx = (\n",
    "    potential.groupby(level=0)[\"terr_zone\"]\n",
    "    .nunique()\n",
    "    .pipe(lambda s: s[s == 1].index)\n",
    ")\n",
    "potential = potential.loc[consistent_idx]\n",
    "potential: gpd.GeoDataFrame = potential[(potential['ratio'] >= 0.8)]\n",
    "\n",
    "for ezi, group in potential.groupby('existing_zone_index'):\n",
    "    base = existing_terr_zones.at[ezi, \"geometry\"]\n",
    "    merged = unary_union([base, *group.geometry.dropna().to_list()])\n",
    "    existing_terr_zones.at[ezi, \"geometry\"] = merged\n",
    "\n",
    "\n",
    "\n"
   ],
   "id": "bf557bfe02bb380d",
   "outputs": [],
   "execution_count": null
  },
  {
   "metadata": {},
   "cell_type": "code",
   "source": [
    "m1 = existing_terr_zones.explore(color='red')\n",
    "existing_zones.explore(m=m1)\n",
    "m1"
   ],
   "id": "8dd8b4505a5f2553",
   "outputs": [],
   "execution_count": null
  },
  {
   "metadata": {},
   "cell_type": "code",
   "source": [
    "from shapely.ops import nearest_points, unary_union\n",
    "import numpy as np\n",
    "\n",
    "existing_zones_repr = existing_zones.to_crs(32635).copy()\n",
    "existing_zones_repr.geometry = existing_zones_repr.geometry.representative_point()\n",
    "\n",
    "target = terr.geometry.buffer(-0.5, resolution=1)\n",
    "target_boundary = target.boundary.union_all()\n",
    "\n",
    "projected = existing_zones_repr.copy()\n",
    "projected.geometry = projected.geometry.apply(\n",
    "    lambda p: nearest_points(p, target_boundary)[1]\n",
    ")\n",
    "\n",
    "m1 = existing_zones.explore(color='red')\n",
    "terr.explore(m=m1)\n",
    "projected.explore(m=m1, color='purple')\n",
    "existing_zones_repr.explore(m=m1, color='pink')\n"
   ],
   "id": "b963c65098efd70f",
   "outputs": [],
   "execution_count": null
  },
  {
   "metadata": {},
   "cell_type": "code",
   "source": "gpd.GeoDataFrame(geometry=[target_boundary], crs=32635).explore()",
   "id": "c0d198ff4aa2d068",
   "outputs": [],
   "execution_count": null
  },
  {
   "metadata": {},
   "cell_type": "code",
   "source": "projected",
   "id": "cc75d09d91302c76",
   "outputs": [],
   "execution_count": null
  },
  {
   "metadata": {},
   "cell_type": "code",
   "source": [
    "from app.gen_planner.python.src.utils import (\n",
    "    explode_linestring,\n",
    "    extend_linestring,\n",
    "    geometry_to_multilinestring,\n",
    "    territory_splitter,\n",
    ")\n",
    "\n",
    "res = territory_splitter(terr, existing_zones, True)\n",
    "res.explore()"
   ],
   "id": "4abb08b39647cbc3",
   "outputs": [],
   "execution_count": null
  },
  {
   "metadata": {},
   "cell_type": "code",
   "source": "res = territory_splitter(territory, existing_zones, True)",
   "id": "a628d581fc429182",
   "outputs": [],
   "execution_count": null
  },
  {
   "metadata": {},
   "cell_type": "code",
   "source": [
    "from app.gen_planner.python.src.zoning import func_zones, terr_zones\n",
    "\n",
    "from app.gen_planner.python.src import GenPlanner\n",
    "import geopandas as gpd\n",
    "\n",
    "roads = gpd.read_file('svetogorsk/roads.geojson')\n",
    "existing_zones = gpd.read_file('svetogorsk/exist_terr_zones.geojson')\n",
    "territory = gpd.read_file('svetogorsk/orig_bounds.geojson')\n",
    "water = gpd.read_file('svetogorsk/water.geojson')\n",
    "\n",
    "terr_zone_map = {'Жилая зона': terr_zones.residential_terr,\n",
    "                 'Рекреационная зона': terr_zones.recreation_terr,\n",
    "                 'Промышленная зона': terr_zones.industrial_terr,\n",
    "                 'Особого назначения': terr_zones.special_terr,\n",
    "                 }\n",
    "existing_zones['terr_zone'] = existing_zones['Тип функциональной зоны'].map(terr_zone_map)\n",
    "\n",
    "gp = GenPlanner(features=territory, roads=roads, exclude_features=water, existing_terr_zones=existing_zones)\n",
    "\n",
    "terr = gp.territory_to_work_with\n"
   ],
   "id": "1306526459fbc42c",
   "outputs": [],
   "execution_count": null
  },
  {
   "metadata": {},
   "cell_type": "code",
   "source": "terr.explore()",
   "id": "f3b77adf92a16b5a",
   "outputs": [],
   "execution_count": null
  },
  {
   "metadata": {},
   "cell_type": "code",
   "source": [
    "\n",
    "gdf1, gdf2 = gp.features2terr_zones2blocks(func_zones.residential_func_zone)"
   ],
   "id": "1f0cd1280d17274a",
   "outputs": [],
   "execution_count": null
  },
  {
   "metadata": {},
   "cell_type": "code",
   "source": "gdf1['territory_zone_name'] = gdf1['territory_zone'].apply(lambda x: x.name)",
   "id": "8dab6c997c9ae3de",
   "outputs": [],
   "execution_count": null
  },
  {
   "metadata": {},
   "cell_type": "code",
   "source": "gdf1.explore(column='territory_zone_name')",
   "id": "92faa366c8d63884",
   "outputs": [],
   "execution_count": null
  },
  {
   "metadata": {},
   "cell_type": "code",
   "source": "",
   "id": "4ea4eda31a31c9d0",
   "outputs": [],
   "execution_count": null
  }
 ],
 "metadata": {
  "kernelspec": {
   "display_name": "Python 3",
   "language": "python",
   "name": "python3"
  },
  "language_info": {
   "codemirror_mode": {
    "name": "ipython",
    "version": 2
   },
   "file_extension": ".py",
   "mimetype": "text/x-python",
   "name": "python",
   "nbconvert_exporter": "python",
   "pygments_lexer": "ipython2",
   "version": "2.7.6"
  }
 },
 "nbformat": 4,
 "nbformat_minor": 5
}
