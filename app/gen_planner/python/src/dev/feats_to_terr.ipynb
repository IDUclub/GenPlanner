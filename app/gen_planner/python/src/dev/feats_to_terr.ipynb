{
 "cells": [
  {
   "metadata": {},
   "cell_type": "code",
   "source": [
    "import geopandas as gpd\n",
    "from shapely import delaunay_triangles\n",
    "from shapely.geometry.multilinestring import MultiLineString\n",
    "\n",
    "polywholes = gpd.read_file('poly_holes.geojson').to_crs(32636)\n",
    "# polywholes.explore()\n",
    "\n",
    "poly_w_holes = polywholes.geometry.iloc[0]\n",
    "\n",
    "# def poly_with_holes_to_multipoly(polygon):\n",
    "\n",
    "# m1 = polywholes.explore(color='red')\n",
    "# # gpd.GeoDataFrame(geometry=[delaunay_triangles(poly_w_holes)],crs=polywholes.crs).explode().explore(m=m1)\n",
    "# m1"
   ],
   "id": "5a77feca6d206d2f",
   "outputs": [],
   "execution_count": null
  },
  {
   "metadata": {},
   "cell_type": "code",
   "source": [
    "from shapely import LineString\n",
    "from shapely.geometry import Polygon\n",
    "from scipy.spatial.distance import cdist\n",
    "import numpy as np\n",
    "from shapely.ops import unary_union\n",
    "from shapely.ops import nearest_points\n",
    "\n",
    "inner_geoms = [Polygon(ring) for ring in poly_w_holes.interiors]\n",
    "inner_centroids = [list(poly.representative_point().coords)[0] for poly in inner_geoms]\n",
    "outside_poly = Polygon(poly_w_holes.exterior)\n",
    "distances = cdist(inner_centroids, inner_centroids)\n",
    "distances[distances == 0] = np.inf\n",
    "n = len(inner_centroids)\n",
    "lines = []\n",
    "for i in range(len(inner_centroids) - 1):\n",
    "    col, row = np.unravel_index(np.argmin(distances), (n, n))\n",
    "    distances[col, row] = np.inf\n",
    "    distances[row, col] = np.inf\n",
    "    lines.append(LineString([inner_centroids[col], inner_centroids[row]]))\n",
    "row_counts = np.sum(distances != np.inf, axis=1)\n",
    "target_row_index = np.where(row_counts == n - 2)[0]\n",
    "lines += [LineString([inner_centroids[last_ind], nearest_points(inner_geoms[last_ind], outside_poly.exterior)[1]]) for\n",
    "          last_ind in target_row_index]\n",
    "print(lines)"
   ],
   "id": "bd125edf59633822",
   "outputs": [],
   "execution_count": null
  },
  {
   "metadata": {},
   "cell_type": "code",
   "source": [
    "from app.gen_planner.python.src.utils import geometry_to_multilinestring\n",
    "from shapely import LineString\n",
    "from shapely.ops import nearest_points\n",
    "from shapely.ops import unary_union, polygonize\n",
    "\n",
    "buffered_poly_w_holes = poly_w_holes.buffer(0.1)\n",
    "lines = [LineString(nearest_points(poly, buffered_poly_w_holes.exterior)).buffer(0.1, resolution=1).exterior for poly in\n",
    "         buffered_poly_w_holes.interiors]\n",
    "polygons = list(polygonize(unary_union([geometry_to_multilinestring(poly_w_holes)] + lines)))\n",
    "repr = poly_w_holes.representative_point()\n",
    "for poly in polygons:\n",
    "    if poly.contains(repr):\n",
    "        result = poly\n",
    "        break\n",
    "result"
   ],
   "id": "d88707a9020f75c6",
   "outputs": [],
   "execution_count": null
  },
  {
   "metadata": {},
   "cell_type": "code",
   "source": [
    "from shapely import line_merge, MultiLineString\n",
    "\n",
    "splitted_lines = gpd.GeoSeries(\n",
    "    pd.Series(zone_roads.to_crs(32636).geometry.apply(geometry_to_multilinestring).explode().apply(\n",
    "        explode_linestring)).explode(\n",
    "        ignore_index=True), crs=32636).normalize().set_precision(0.00000001).unique()\n",
    "\n",
    "# splitted_lines = zone_splitted.to_crs(32636).geometry.apply(geometry_to_multilinestring).explode().to_list()\n",
    "\n",
    "lines = line_merge(MultiLineString(splitted_lines))\n",
    "#\n",
    "# gpd.GeoDataFrame(geometry=lines,crs=32636).explode(ignore_index=True).reset_index().explore(column='index')\n",
    "\n",
    "print(len(lines.geoms))\n",
    "print(len(splitted_lines))"
   ],
   "id": "d11320f613e17bf8",
   "outputs": [],
   "execution_count": null
  },
  {
   "metadata": {},
   "cell_type": "code",
   "source": [
    "from app.gen_planner.python.src import territory_splitter\n",
    "from app.gen_planner.python.src.utils import geometry_to_multilinestring, explode_linestring\n",
    "import geopandas as gpd\n",
    "import pandas as pd\n",
    "\n",
    "zone = gpd.read_file('../scenarios_data/project Шлиссельбург.geojson')\n",
    "zone_roads = gpd.read_file('../scenarios_data/roads_shlis.geojson')\n"
   ],
   "id": "59f085236761956c",
   "outputs": [],
   "execution_count": null
  },
  {
   "metadata": {},
   "cell_type": "code",
   "source": [
    "from app.gen_planner.python.src import GenPlanner, func_zones, terr_zones\n",
    "from shapely import Point\n",
    "\n",
    "zones_ratio_dict = {'right_lower': 0.225, 'right_upper': 0.225, 'left_upper': 0.225, 'left_lower': 0.225,\n",
    "                    'middle_lower': 0.1, 'middle_upper': 0.1, 'free_zone1': 0.1, 'free_zone2': 0.1}\n",
    "fixed_zones = gpd.GeoDataFrame()\n",
    "# middle_lower = Point(31.015, 59.911)\n",
    "middle_upper = Point(31.022, 59.922)\n",
    "right_upper = Point(31.046, 59.922)\n",
    "right_lower = Point(31.043, 59.911)\n",
    "left_upper = Point(30.999, 59.927)\n",
    "left_lower = Point(30.993, 59.912)\n",
    "\n",
    "fixed_2zones = gpd.GeoDataFrame(\n",
    "    {'fixed_zone': [terr_zones.transport_terr, terr_zones.recreation_terr]},\n",
    "    geometry=[left_lower, middle_upper],\n",
    "    crs=4326)\n",
    "\n",
    "fixed_4zones = gpd.GeoDataFrame(\n",
    "    {'fixed_zone': [terr_zones.transport_terr, terr_zones.recreation_terr, terr_zones.special_terr,\n",
    "                    terr_zones.business_terr]},\n",
    "    geometry=[right_upper, right_lower, left_upper, left_lower],\n",
    "    crs=4326)\n",
    "\n",
    "fixed_zones = fixed_4zones\n",
    "\n",
    "territory = zone.copy()\n",
    "# territory = zone_splitted.copy()\n",
    "\n",
    "generated_zones, generated_roads = GenPlanner(zone, zone_roads,dev_mod=True).features2terr_zones2blocks(\n",
    "    funczone=func_zones.residential_func_zone, fixed_terr_zones=fixed_zones)\n",
    "# gp= GenPlanner(zone, zone_roads,exclude = None,dev_mod=True)\n",
    "# generated_zones, generated_roads = gp.features2terr_zones2blocks(\n",
    "#     funczone=func_zones.residential_func_zone)"
   ],
   "id": "413c79eff303d073",
   "outputs": [],
   "execution_count": null
  },
  {
   "metadata": {},
   "cell_type": "code",
   "source": [
    "import pandas as pd\n",
    "\n",
    "m1 = pd.concat([generated_zones,\n",
    "                fixed_zones.rename(columns={'fixed_zone': 'territory_zone'}).to_crs(generated_zones.crs)]).explore(\n",
    "    tiles='Cartodb Positron', column='territory_zone', cmap='Dark2')\n",
    "m1"
   ],
   "id": "a40a43e509745b6a",
   "outputs": [],
   "execution_count": null
  },
  {
   "metadata": {},
   "cell_type": "code",
   "source": "generated_roads.explore(column='road_lvl',tiles='Cartodb Positron')",
   "id": "8bcaa78f54e717a0",
   "outputs": [],
   "execution_count": null
  },
  {
   "metadata": {},
   "cell_type": "code",
   "source": "",
   "id": "7feb822b05b5801f",
   "outputs": [],
   "execution_count": null
  }
 ],
 "metadata": {
  "kernelspec": {
   "display_name": "Python 3",
   "language": "python",
   "name": "python3"
  },
  "language_info": {
   "codemirror_mode": {
    "name": "ipython",
    "version": 2
   },
   "file_extension": ".py",
   "mimetype": "text/x-python",
   "name": "python",
   "nbconvert_exporter": "python",
   "pygments_lexer": "ipython2",
   "version": "2.7.6"
  }
 },
 "nbformat": 4,
 "nbformat_minor": 5
}
