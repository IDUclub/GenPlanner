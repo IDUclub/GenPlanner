{
 "cells": [
  {
   "metadata": {},
   "cell_type": "code",
   "source": [
    "# Пример вызова генплана на большой территории \n",
    "\n",
    "import geopandas as gpd\n",
    "from shapely import Polygon, MultiPolygon\n",
    "\n",
    "from app.gen_planner.python.src import GenPlanner, gen_plan,basic_func_zone\n",
    "\n",
    "zones, roads = GenPlanner(gpd.read_file('1.gpkg')).poly2func2terr2block(gen_plan)"
   ],
   "id": "465d36997f12a883",
   "outputs": [],
   "execution_count": null
  },
  {
   "metadata": {},
   "cell_type": "code",
   "source": [
    "m1 = zones.explore(column='terr_zone', tiles='CartoDB positron', cmap='Dark2', categorical=True)\n",
    "roads.explore(m=m1, column='road_lvl', categorical=True)\n",
    "m1"
   ],
   "id": "111a5e6a69d8a3c0",
   "outputs": [],
   "execution_count": null
  },
  {
   "metadata": {},
   "cell_type": "code",
   "source": [
    "m1 = zones.explore(column='terr_zone', tiles='CartoDB positron', cmap='Dark2', categorical=True)\n",
    "roads.explore(m=m1, column='road_lvl', categorical=True)\n",
    "m1"
   ],
   "id": "1ba923b745434c91",
   "outputs": [],
   "execution_count": null
  },
  {
   "metadata": {},
   "cell_type": "code",
   "source": [
    "# тут вызовы по сценариям по разным территориям, везде basic по умолчанию, но другие лежат в zoning.\n",
    "\n",
    "\n",
    "from app.gen_planner.python.src import GenPlanner,basic_func_zone\n",
    "import geopandas as gpd\n",
    "\n",
    "zones, roads = GenPlanner(gpd.read_file('project Шлиссельбург.geojson')).poly2terr2block(basic_func_zone)\n",
    "m1 = zones.explore(column='terr_zone', tiles='CartoDB positron', cmap='Dark2', categorical=True)\n",
    "roads.explore(m=m1, column='road_lvl', cmap='Dark2', categorical=True)"
   ],
   "id": "efff86ffd64496db",
   "outputs": [],
   "execution_count": null
  },
  {
   "metadata": {},
   "cell_type": "code",
   "source": [
    "from app.gen_planner.python.src import GenPlanner,basic_func_zone\n",
    "import geopandas as gpd\n",
    "zones, roads = GenPlanner(gpd.read_file('Аэродром_лодейнопольское_поселение.geojson')).poly2terr2block(basic_func_zone)\n",
    "m1 = zones.explore(column='terr_zone', tiles='CartoDB positron', cmap='Dark2', categorical=True)\n",
    "roads.explore(m=m1, column='road_lvl', cmap='Dark2', categorical=True)"
   ],
   "id": "fc279e9958e0e728",
   "outputs": [],
   "execution_count": null
  },
  {
   "metadata": {},
   "cell_type": "code",
   "source": [
    "from app.gen_planner.python.src import GenPlanner,basic_func_zone\n",
    "import geopandas as gpd\n",
    "\n",
    "zones, roads = GenPlanner(gpd.read_file('светогорск.geojson')).poly2terr2block(basic_func_zone)\n",
    "m1 = zones.explore(column='terr_zone', tiles='CartoDB positron', cmap='Dark2', categorical=True)\n",
    "roads.explore(m=m1, column='road_lvl', cmap='Dark2', categorical=True)"
   ],
   "id": "bb2f21bfd41b3422",
   "outputs": [],
   "execution_count": null
  },
  {
   "metadata": {},
   "cell_type": "code",
   "source": [
    "# тут вызов деления территориальной зоны на кварталы по минимальному размеру терр.зоны\n",
    "from app.gen_planner.python.src import GenPlanner, terr_zones\n",
    "import geopandas as gpd\n",
    "zones, roads = GenPlanner(gpd.read_file('светогорск.geojson')).poly2block(terr_zones.residential_terr)\n",
    "m1 = zones.explore(column='terr_zone', tiles='CartoDB positron', cmap='Dark2', categorical=True)\n",
    "roads.explore(m=m1, column='road_lvl', cmap='Dark2', categorical=True)"
   ],
   "id": "1847b02a16417cfe",
   "outputs": [],
   "execution_count": null
  },
  {
   "metadata": {},
   "cell_type": "code",
   "source": [
    "from app.gen_planner.python.src import GenPlanner\n",
    "import geopandas as gpd\n",
    "zones = {'1':0.1,\n",
    "         '2':0.1,\n",
    "         '3':0.1,\n",
    "         '4':0.1,\n",
    "         '5':0.1,\n",
    "         '6':0.1,\n",
    "         '7':0.1,\n",
    "         '8':0.1,}\n",
    "zones, roads = GenPlanner(gpd.read_file('светогорск.geojson')).split_poly(zones,roads_width=50)\n",
    "zones.explore()"
   ],
   "id": "56766cdea970c584",
   "outputs": [],
   "execution_count": null
  },
  {
   "metadata": {},
   "cell_type": "code",
   "source": [
    "import geopandas as gpd\n",
    "import numpy as np \n",
    "from  shapely import MultiPolygon,Polygon\n",
    "local_crs = 32636\n",
    "multip = gpd.read_file('2.gpkg').to_crs(local_crs)\n",
    "\n",
    "def elasatic_wrap(gdf: gpd.GeoDataFrame) -> Polygon:\n",
    "    gdf = gdf.copy()\n",
    "    multip = gpd.GeoDataFrame(geometry=gdf.geometry,crs = gdf.crs).explode(ignore_index=True)\n",
    "    max_dist =  np.ceil(multip.apply(lambda row: multip.drop(row.name).distance(row.geometry).min(), axis=1).max(axis=0))\n",
    "    poly = multip.buffer(max_dist).union_all().buffer(-max_dist)\n",
    "    if isinstance(poly, MultiPolygon):\n",
    "        raise RuntimeError('Cant cast Multipolygon to Polygon')\n",
    "    poly = Polygon(poly.exterior)\n",
    "    return poly\n",
    "p = elasatic_wrap(multip)"
   ],
   "id": "baae5d539e296443",
   "outputs": [],
   "execution_count": null
  },
  {
   "metadata": {},
   "cell_type": "code",
   "source": "gpd.GeoDataFrame(geometry=[p.simplify(100)],crs=local_crs).explore()",
   "id": "9199309d1b57a3b9",
   "outputs": [],
   "execution_count": null
  },
  {
   "metadata": {},
   "cell_type": "code",
   "source": [
    "from app.gen_planner.python.src import GenPlanner,gen_plan\n",
    "import geopandas as gpd\n",
    "\n",
    "gp = GenPlanner(gpd.read_file('2.gpkg'),rotation=0)\n",
    "multiterritory = gp.transformed_poly\n",
    "zones,roads = gp.poly2func2terr2block(gen_plan)"
   ],
   "id": "1c9b9c075f7cb1d",
   "outputs": [],
   "execution_count": null
  },
  {
   "metadata": {},
   "cell_type": "code",
   "source": "zones.explore()",
   "id": "3052752cc5dc046a",
   "outputs": [],
   "execution_count": null
  },
  {
   "metadata": {},
   "cell_type": "code",
   "source": [
    "m1 = zones.explore(column='func_zone', tiles='CartoDB positron', cmap='Dark2', categorical=True)\n",
    "roads.explore(m=m1, column='road_lvl', categorical=True)\n",
    "m1"
   ],
   "id": "7989450155a7e3b2",
   "outputs": [],
   "execution_count": null
  },
  {
   "metadata": {},
   "cell_type": "code",
   "source": "",
   "id": "9b6f6f3da67362a",
   "outputs": [],
   "execution_count": null
  }
 ],
 "metadata": {
  "kernelspec": {
   "display_name": "Python 3",
   "language": "python",
   "name": "python3"
  },
  "language_info": {
   "codemirror_mode": {
    "name": "ipython",
    "version": 2
   },
   "file_extension": ".py",
   "mimetype": "text/x-python",
   "name": "python",
   "nbconvert_exporter": "python",
   "pygments_lexer": "ipython2",
   "version": "2.7.6"
  }
 },
 "nbformat": 4,
 "nbformat_minor": 5
}
