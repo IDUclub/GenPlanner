{
 "cells": [
  {
   "metadata": {
    "ExecuteTime": {
     "end_time": "2025-04-20T17:09:32.308213Z",
     "start_time": "2025-04-20T17:09:30.739124Z"
    }
   },
   "cell_type": "code",
   "source": [
    "import geopandas as gpd\n",
    "from geojson_pydantic import LineString\n",
    "from matplotlib.cbook import pts_to_midstep\n",
    "from networkx import neighbors\n",
    "from numpy.ma.core import append\n",
    "\n",
    "gpd.read_file('blocks (1).geojson')"
   ],
   "id": "684436c31c36de54",
   "outputs": [
    {
     "ename": "ModuleNotFoundError",
     "evalue": "No module named 'networkx'",
     "output_type": "error",
     "traceback": [
      "\u001B[1;31m---------------------------------------------------------------------------\u001B[0m",
      "\u001B[1;31mModuleNotFoundError\u001B[0m                       Traceback (most recent call last)",
      "Cell \u001B[1;32mIn[1], line 4\u001B[0m\n\u001B[0;32m      2\u001B[0m \u001B[38;5;28;01mfrom\u001B[39;00m \u001B[38;5;21;01mgeojson_pydantic\u001B[39;00m \u001B[38;5;28;01mimport\u001B[39;00m LineString\n\u001B[0;32m      3\u001B[0m \u001B[38;5;28;01mfrom\u001B[39;00m \u001B[38;5;21;01mmatplotlib\u001B[39;00m\u001B[38;5;21;01m.\u001B[39;00m\u001B[38;5;21;01mcbook\u001B[39;00m \u001B[38;5;28;01mimport\u001B[39;00m pts_to_midstep\n\u001B[1;32m----> 4\u001B[0m \u001B[38;5;28;01mfrom\u001B[39;00m \u001B[38;5;21;01mnetworkx\u001B[39;00m \u001B[38;5;28;01mimport\u001B[39;00m neighbors\n\u001B[0;32m      5\u001B[0m \u001B[38;5;28;01mfrom\u001B[39;00m \u001B[38;5;21;01mnumpy\u001B[39;00m\u001B[38;5;21;01m.\u001B[39;00m\u001B[38;5;21;01mma\u001B[39;00m\u001B[38;5;21;01m.\u001B[39;00m\u001B[38;5;21;01mcore\u001B[39;00m \u001B[38;5;28;01mimport\u001B[39;00m append\n\u001B[0;32m      7\u001B[0m gpd\u001B[38;5;241m.\u001B[39mread_file(\u001B[38;5;124m'\u001B[39m\u001B[38;5;124mblocks (1).geojson\u001B[39m\u001B[38;5;124m'\u001B[39m)\n",
      "\u001B[1;31mModuleNotFoundError\u001B[0m: No module named 'networkx'"
     ]
    }
   ],
   "execution_count": 1
  },
  {
   "metadata": {},
   "cell_type": "code",
   "source": [
    "# Пример вызова генплана на большой территории \n",
    "\n",
    "import geopandas as gpd\n",
    "from shapely import Polygon, MultiPolygon\n",
    "\n",
    "from app.gen_planner.python.src import GenPlanner, gen_plan, basic_func_zone\n",
    "\n",
    "zones, roads = GenPlanner(gpd.read_file('1.gpkg')).poly2func2terr2block(gen_plan)"
   ],
   "id": "465d36997f12a883",
   "outputs": [],
   "execution_count": null
  },
  {
   "metadata": {},
   "cell_type": "code",
   "source": [
    "m1 = zones.explore(column='terr_zone', tiles='CartoDB positron', cmap='Dark2', categorical=True)\n",
    "roads.explore(m=m1, column='road_lvl', categorical=True)\n",
    "m1"
   ],
   "id": "111a5e6a69d8a3c0",
   "outputs": [],
   "execution_count": null
  },
  {
   "metadata": {},
   "cell_type": "code",
   "source": [
    "# тут вызовы по сценариям по разным территориям, везде basic по умолчанию, но другие лежат в zoning.\n",
    "\n",
    "\n",
    "from app.gen_planner.python.src import GenPlanner, basic_func_zone\n",
    "import geopandas as gpd\n",
    "\n",
    "zones, roads = GenPlanner(gpd.read_file('project Шлиссельбург.geojson')).poly2terr2block(basic_func_zone)\n",
    "m1 = zones.explore(column='terr_zone', tiles='CartoDB positron', cmap='Dark2', categorical=True)\n",
    "roads.explore(m=m1, column='road_lvl', cmap='Dark2', categorical=True)"
   ],
   "id": "efff86ffd64496db",
   "outputs": [],
   "execution_count": null
  },
  {
   "metadata": {},
   "cell_type": "code",
   "source": [
    "from app.gen_planner.python.src import GenPlanner, basic_func_zone\n",
    "import geopandas as gpd\n",
    "\n",
    "zones, roads = GenPlanner(gpd.read_file('Аэродром_лодейнопольское_поселение.geojson')).poly2terr2block(basic_func_zone)\n",
    "m1 = zones.explore(column='terr_zone', tiles='CartoDB positron', cmap='Dark2', categorical=True)\n",
    "roads.explore(m=m1, column='road_lvl', cmap='Dark2', categorical=True)"
   ],
   "id": "fc279e9958e0e728",
   "outputs": [],
   "execution_count": null
  },
  {
   "metadata": {},
   "cell_type": "code",
   "source": [
    "from app.gen_planner.python.src import GenPlanner, basic_func_zone\n",
    "import geopandas as gpd\n",
    "\n",
    "zones, roads = GenPlanner(gpd.read_file('светогорск.geojson')).poly2terr2block(basic_func_zone)\n",
    "m1 = zones.explore(column='terr_zone', tiles='CartoDB positron', cmap='Dark2', categorical=True)\n",
    "roads.explore(m=m1, column='road_lvl', cmap='Dark2', categorical=True)"
   ],
   "id": "bb2f21bfd41b3422",
   "outputs": [],
   "execution_count": null
  },
  {
   "metadata": {},
   "cell_type": "code",
   "source": [
    "# тут вызов деления территориальной зоны на кварталы по минимальному размеру терр.зоны\n",
    "from app.gen_planner.python.src import GenPlanner, terr_zones\n",
    "import geopandas as gpd\n",
    "\n",
    "zones, roads = GenPlanner(gpd.read_file('светогорск.geojson')).features2blocks(terr_zones.residential_terr)\n",
    "m1 = zones.explore(column='terr_zone', tiles='CartoDB positron', cmap='Dark2', categorical=True)\n",
    "roads.explore(m=m1, column='road_lvl', cmap='Dark2', categorical=True)"
   ],
   "id": "1847b02a16417cfe",
   "outputs": [],
   "execution_count": null
  },
  {
   "metadata": {},
   "cell_type": "code",
   "source": [
    "from app.gen_planner.python.src import GenPlanner\n",
    "import geopandas as gpd\n",
    "\n",
    "zones = {'1': 0.1,\n",
    "         '2': 0.1,\n",
    "         '3': 0.1,\n",
    "         '4': 0.1,\n",
    "         '5': 0.1,\n",
    "         '6': 0.1,\n",
    "         '7': 0.1,\n",
    "         '8': 0.1, }\n",
    "zones, roads = GenPlanner(gpd.read_file('светогорск.geojson')).split_features(zones, roads_width=50)\n",
    "zones.explore()"
   ],
   "id": "56766cdea970c584",
   "outputs": [],
   "execution_count": null
  },
  {
   "metadata": {},
   "cell_type": "code",
   "source": [
    "import geopandas as gpd\n",
    "import numpy as np\n",
    "from shapely import MultiPolygon, Polygon\n",
    "\n",
    "local_crs = 32636\n",
    "multip = gpd.read_file('2.gpkg').to_crs(local_crs)\n",
    "\n",
    "\n",
    "def elasatic_wrap(gdf: gpd.GeoDataFrame) -> Polygon:\n",
    "    gdf = gdf.copy()\n",
    "    multip = gpd.GeoDataFrame(geometry=gdf.geometry, crs=gdf.crs).explode(ignore_index=True)\n",
    "    max_dist = np.ceil(multip.apply(lambda row: multip.drop(row.name).distance(row.geometry).min(), axis=1).max(axis=0))\n",
    "    poly = multip.buffer(max_dist).union_all().buffer(-max_dist)\n",
    "    if isinstance(poly, MultiPolygon):\n",
    "        raise RuntimeError('Cant cast Multipolygon to Polygon')\n",
    "    poly = Polygon(poly.exterior)\n",
    "    return poly\n",
    "\n",
    "\n",
    "p = elasatic_wrap(multip)"
   ],
   "id": "baae5d539e296443",
   "outputs": [],
   "execution_count": null
  },
  {
   "metadata": {},
   "cell_type": "code",
   "source": "gpd.GeoDataFrame(geometry=[p.simplify(250)], crs=local_crs).explore()",
   "id": "9199309d1b57a3b9",
   "outputs": [],
   "execution_count": null
  },
  {
   "metadata": {},
   "cell_type": "code",
   "source": [
    "from app.gen_planner.python.src import GenPlanner, gen_plan\n",
    "import geopandas as gpd\n",
    "\n",
    "gp = GenPlanner(gpd.read_file('2.gpkg'), rotation=0)\n",
    "multiterritory = gp.territory_to_work_with\n",
    "zones, roads = gp.poly2func2terr2block(gen_plan)"
   ],
   "id": "1c9b9c075f7cb1d",
   "outputs": [],
   "execution_count": null
  },
  {
   "metadata": {},
   "cell_type": "code",
   "source": "zones.explore()",
   "id": "3052752cc5dc046a",
   "outputs": [],
   "execution_count": null
  },
  {
   "metadata": {},
   "cell_type": "markdown",
   "source": "# MultiP",
   "id": "b485ca8b9313499e"
  },
  {
   "metadata": {},
   "cell_type": "code",
   "source": [
    "%load_ext autoreload\n",
    "%autoreload 2\n",
    "import geopandas as gpd\n",
    "from app.gen_planner.python.src.utils.geom_utils import geometry_to_multilinestring\n",
    "from shapely.ops import polygonize, unary_union, Polygon\n",
    "\n",
    "\n",
    "def territory_splitter(gdf_to_split: gpd.GeoDataFrame, splitters: gpd.GeoDataFrame) -> gpd.GeoDataFrame:\n",
    "    local_crs = gdf_to_split.estimate_utm_crs()\n",
    "    gdf_to_split = gdf_to_split.to_crs(local_crs)\n",
    "    splitters = splitters.to_crs(local_crs)\n",
    "    lines_orig = gdf_to_split.to_crs(local_crs).geometry.apply(geometry_to_multilinestring).to_list()\n",
    "    lines_splitters = splitters.to_crs(local_crs).geometry.apply(geometry_to_multilinestring).to_list()\n",
    "\n",
    "    polygons = gpd.GeoDataFrame(geometry=list(polygonize(unary_union(lines_orig + lines_splitters))),\n",
    "                                crs=local_crs).clip(gdf_to_split.to_crs(local_crs), keep_geom_type=True).explode()\n",
    "\n",
    "    polygons_points = polygons.copy()\n",
    "    polygons_points.geometry = polygons.representative_point()\n",
    "    joined_ind = polygons_points.sjoin(splitters, how='inner', predicate='within').index.tolist()\n",
    "    polygons['is_splitter'] = polygons.index.isin(joined_ind)\n",
    "    polygons.geometry = polygons.apply(lambda x: Polygon(x.geometry.exterior) if not x['is_splitter'] else x.geometry,\n",
    "                                       axis=1)\n",
    "    non_splitters = polygons[~polygons['is_splitter']]\n",
    "    contains = non_splitters.sjoin(non_splitters, predicate='contains')\n",
    "    to_kick = contains[~(contains.index == contains['index_right'])]['index_right'].to_list()\n",
    "    polygons.drop(index=to_kick, inplace=True)\n",
    "    return polygons\n",
    "\n",
    "\n",
    "local_crs = 32636\n",
    "\n",
    "territory = gpd.read_file('project ШлиссельбургMulti.geojson').to_crs(local_crs)\n",
    "roads = gpd.read_file('roads_shlis.geojson').to_crs(local_crs)\n",
    "roads.geometry = roads.to_crs(32636).buffer(2.5).to_crs(4326)\n",
    "\n",
    "multipolys = territory_splitter(territory, roads)\n",
    "multipolys.explore(style_kwds={'fillOpacity': 0.5})"
   ],
   "id": "f9132523884e07e8",
   "outputs": [],
   "execution_count": null
  },
  {
   "metadata": {},
   "cell_type": "code",
   "source": [
    "from app.gen_planner.python.src import func_zones, GenPlanner\n",
    "\n",
    "multipolys = multipolys[~multipolys['is_splitter']]\n",
    "zones, roads = GenPlanner(multipolys,dev_mod=True).features2terr_zones(func_zones.residential_func_zone)"
   ],
   "id": "b8b4035efde48718",
   "outputs": [],
   "execution_count": null
  },
  {
   "metadata": {},
   "cell_type": "code",
   "source": "multipolys.reset_index(drop=True, inplace=True)",
   "id": "b9abad32c07371cf",
   "outputs": [],
   "execution_count": null
  },
  {
   "metadata": {},
   "cell_type": "code",
   "source": [
    "local_crs = 32636\n",
    "\n",
    "lines_orig = multipolys.geometry.apply(geometry_to_multilinestring).to_list()\n",
    "lines_new = zones.geometry.apply(geometry_to_multilinestring).to_list()\n",
    "polygons = gpd.GeoDataFrame(geometry=list(polygonize(unary_union(lines_orig + lines_new))),\n",
    "                            crs=local_crs).explode()\n",
    "polygons['subsplit_area'] = polygons.area\n",
    "polygons_points = polygons.copy()\n",
    "polygons_points.geometry = polygons_points.representative_point()\n",
    "polygons_points = polygons_points.sjoin(zones, how='inner', predicate='within').drop(columns='index_right')\n",
    "multipolys['original_area'] = multipolys.area\n",
    "division = multipolys.sjoin(polygons_points, how='inner', predicate='intersects').drop(\n",
    "    columns=['index_right', 'is_splitter', 'ratio'])\n",
    "\n",
    "division['zone_to_add'] = division['zone_name'].apply(lambda x: x.name)\n",
    "division = division.reset_index().groupby(['index', 'zone_to_add']).agg(\n",
    "    {'original_area': 'first', 'subsplit_area': 'sum', 'zone_name': 'first',\n",
    "     'geometry': 'first'}).reset_index().set_index(\n",
    "    'index')\n",
    "division"
   ],
   "id": "7e6b774b7fb433fa",
   "outputs": [],
   "execution_count": null
  },
  {
   "metadata": {},
   "cell_type": "code",
   "source": [
    "import pandas as pd\n",
    "\n",
    "target_zones = pd.DataFrame.from_dict(func_zones.residential_func_zone.zones_ratio, orient='index',\n",
    "                                      columns=['zones_ratio']).reset_index().rename(columns={'index': 'zone'})\n",
    "target_zones['zones_ratio'] = target_zones['zones_ratio'] / target_zones['zones_ratio'].sum()\n",
    "target_zones['min_area'] = target_zones['zone'].apply(lambda x: x.min_block_area)\n",
    "target_zones['zone'] = target_zones['zone'].apply(lambda x: x.name)\n",
    "target_zones.set_index('zone', inplace=True)\n",
    "\n",
    "possible_areas = division.reset_index().groupby('index').agg(\n",
    "    {'zone_to_add': list, 'subsplit_area': list})\n",
    "possible_areas = possible_areas.join(\n",
    "    possible_areas.apply(lambda x: pd.Series([y for y in x.subsplit_area], index=x.zone_to_add), axis=1))\n",
    "possible_areas = possible_areas.drop(columns=['zone_to_add', 'subsplit_area'])\n",
    "possible_areas['poly_area'] = possible_areas[target_zones.index].sum(axis=1)\n",
    "target_zones['target_area'] = target_zones['zones_ratio'] * possible_areas['poly_area'].sum()\n",
    "target_zones"
   ],
   "id": "25442c780f873c33",
   "outputs": [],
   "execution_count": null
  },
  {
   "metadata": {},
   "cell_type": "code",
   "source": [
    "import pandas as pd\n",
    "import pulp\n",
    "\n",
    "# === 1. Входные данные ===\n",
    "\n",
    "# Допустимые размещения\n",
    "df_zones = division.copy()  # или подставь свой путь/данные напрямую\n",
    "df_zones = df_zones.reset_index()\n",
    "# Целевые показатели\n",
    "df_targets = target_zones.copy()\n",
    "df_targets = df_targets.reset_index()\n",
    "# Приводим данные в подходящий вид\n",
    "df_zones['original_area'] = df_zones['original_area'].astype(float)\n",
    "\n",
    "# Собираем уникальные комбинации (index, zone_to_add)\n",
    "valid_combinations = df_zones[['index', 'zone_to_add', 'original_area']].drop_duplicates()\n",
    "# Получим словари для удобства\n",
    "zone_capacity = df_zones.groupby('index')['original_area'].first().to_dict()\n",
    "zone_permitted = {(row['index'], row['zone_to_add']) for _, row in valid_combinations.iterrows()}\n",
    "min_areas = df_targets.set_index('zone')['min_area'].to_dict()\n",
    "target_areas = df_targets.set_index('zone')['target_area'].to_dict()\n",
    "\n",
    "model = pulp.LpProblem(\"Territorial_Zoning\", pulp.LpMinimize)\n",
    "\n",
    "x = {\n",
    "    (i, z): pulp.LpVariable(f\"zone_index {i} zone type {z}\", lowBound=0)\n",
    "    for (i, z) in zone_permitted\n",
    "}\n",
    "\n",
    "y = {\n",
    "    (i, z): pulp.LpVariable(f\"y_{i}_{z}\", cat=\"Binary\")\n",
    "    for (i, z) in zone_permitted\n",
    "}\n",
    "slack = {\n",
    "    (i, z): pulp.LpVariable(f\"slack_{i}_{z}\", lowBound=0)\n",
    "    for (i, z) in x\n",
    "}\n",
    "\n",
    "model += 0"
   ],
   "id": "719be23eb004cde2",
   "outputs": [],
   "execution_count": null
  },
  {
   "metadata": {},
   "cell_type": "code",
   "source": [
    "\n",
    "# (1) Ограничение по площади каждой зоны\n",
    "for i in df_zones['index'].unique():\n",
    "    model += pulp.lpSum(x[i, z] for z in df_targets['zone'] if (i, z) in x) <= zone_capacity[i], f\"Capacity_zone_{i}\"\n",
    "\n",
    "for (i, z) in x:\n",
    "    model += x[i, z] + slack[i, z] >= min_areas[z] * y[i, z], f\"SoftMinArea_{i}_{z}\"\n",
    "    model += x[i, z] <= zone_capacity[i] * y[i, z], f\"MaxIfAssigned_{i}_{z}\"\n",
    "\n",
    "# (3) Обеспечение целевой площади для каждой тер. зоны\n",
    "for z in df_targets['zone']:\n",
    "    model += pulp.lpSum(x[i, z] for i in df_zones['index'].unique() if (i, z) in x) >= target_areas[\n",
    "        z], f\"TargetArea_{z}\"\n"
   ],
   "id": "cd39555ffd98cced",
   "outputs": [],
   "execution_count": null
  },
  {
   "metadata": {},
   "cell_type": "code",
   "source": "model",
   "id": "e88d21cf50d67fbd",
   "outputs": [],
   "execution_count": null
  },
  {
   "metadata": {},
   "cell_type": "code",
   "source": [
    "\n",
    "solver = pulp.PULP_CBC_CMD(msg=True)\n",
    "model.solve(solver)\n",
    "\n",
    "# === 5. Вывод результатов ===\n",
    "\n",
    "print(\"Статус:\", pulp.LpStatus[model.status])\n",
    "\n",
    "allocations = []\n",
    "for (i, z), var in x.items():\n",
    "    val = var.varValue\n",
    "    if val and val > 0:\n",
    "        allocations.append((i, z, round(val, 2)))\n",
    "\n",
    "df_result = pd.DataFrame(allocations, columns=[\"zone_index\", \"territorial_zone\", \"assigned_area\"])\n",
    "df_result\n"
   ],
   "id": "716ddb3bae998b87",
   "outputs": [],
   "execution_count": null
  },
  {
   "metadata": {},
   "cell_type": "code",
   "source": "df_result['zone_index'].unique()",
   "id": "1c3c2e66c094e8fb",
   "outputs": [],
   "execution_count": null
  },
  {
   "metadata": {},
   "cell_type": "code",
   "source": [
    "from app.gen_planner.python.src import func_zones, GenPlanner\n",
    "from app.gen_planner.python.src import FuncZone, terr_zones\n",
    "\n",
    "result = []\n",
    "for ind, poly in multipolys.loc[df_result['zone_index'].unique()].iterrows():\n",
    "    terr_zones_in_poly = df_result[df_result['zone_index'] == ind].copy()\n",
    "    terr_zones_in_poly = terr_zones_in_poly[terr_zones_in_poly['assigned_area'] > 0]\n",
    "    if len(terr_zones_in_poly) == 1:\n",
    "        result.append((poly.geometry, terr_zones_in_poly.iloc[0]['territorial_zone']))\n",
    "    else:\n",
    "        zone_area_total = poly.original_area\n",
    "        zones_ratio_dict = {\n",
    "            row['territorial_zone']: row['assigned_area'] / zone_area_total\n",
    "            for _, row in terr_zones_in_poly.iterrows()\n",
    "        }\n",
    "        subzones, roads = GenPlanner(multipolys.loc[[ind]]).split_features(zones_ratio_dict=zones_ratio_dict)\n",
    "        for _, zone in subzones.iterrows():\n",
    "            result.append((zone.geometry, zone.zone_name))"
   ],
   "id": "e1dc94a98b462938",
   "outputs": [],
   "execution_count": null
  },
  {
   "metadata": {},
   "cell_type": "code",
   "source": [
    "gpd.GeoDataFrame(data=result, columns=['geometry', 'zone_name'], geometry='geometry', crs=32636).explore(\n",
    "    column='zone_name',  cmap='Dark2',tiles='cartodb positron')"
   ],
   "id": "d7ffd5434f2425d6",
   "outputs": [],
   "execution_count": null
  },
  {
   "metadata": {},
   "cell_type": "markdown",
   "source": "",
   "id": "86299a27ab7f9b83"
  },
  {
   "metadata": {},
   "cell_type": "code",
   "source": "zones['zone'] = zones['zone_name'].apply(lambda x: x.name)",
   "id": "cfa47635dc85c18c",
   "outputs": [],
   "execution_count": null
  },
  {
   "metadata": {},
   "cell_type": "code",
   "source": [
    "m1 = multipolys.reset_index().explore(style_kwds={'fillOpacity': 0.2}, tiles='cartodb positron')\n",
    "zones.explore(m=m1, column='zone', tiles='CartoDB positron', cmap='Dark2', categorical=True,\n",
    "              style_kwds={'fillOpacity': 0.4})\n",
    "# zones2.explore(m=m1)\n",
    "m1"
   ],
   "id": "639476844cf21d3",
   "outputs": [],
   "execution_count": null
  },
  {
   "metadata": {},
   "cell_type": "code",
   "source": "multipolys.reset_index().explore(style_kwds={'fillOpacity': 0.2}, tiles='cartodb positron')",
   "id": "a43de5f03f1910c5",
   "outputs": [],
   "execution_count": null
  },
  {
   "metadata": {},
   "cell_type": "code",
   "source": "",
   "id": "ce8feb760ab9e8a0",
   "outputs": [],
   "execution_count": null
  }
 ],
 "metadata": {
  "kernelspec": {
   "display_name": "Python 3",
   "language": "python",
   "name": "python3"
  },
  "language_info": {
   "codemirror_mode": {
    "name": "ipython",
    "version": 2
   },
   "file_extension": ".py",
   "mimetype": "text/x-python",
   "name": "python",
   "nbconvert_exporter": "python",
   "pygments_lexer": "ipython2",
   "version": "2.7.6"
  }
 },
 "nbformat": 4,
 "nbformat_minor": 5
}
