{
 "cells": [
  {
   "metadata": {
    "ExecuteTime": {
     "end_time": "2024-12-10T14:26:15.644183Z",
     "start_time": "2024-12-10T14:24:25.473818Z"
    }
   },
   "cell_type": "code",
   "source": [
    "# Пример вызова генплана на большой территории \n",
    "\n",
    "import geopandas as gpd\n",
    "import pandas as pd\n",
    "\n",
    "from gen_planner.python.src.genplanner import GenPlanner\n",
    "from zoning import func_zones, gen_plan\n",
    "\n",
    "zones, roads = GenPlanner(gpd.read_file('1.gpkg'), rotation=0).terr2district2zone2block(gen_plan)"
   ],
   "id": "465d36997f12a883",
   "outputs": [],
   "execution_count": 1
  },
  {
   "metadata": {
    "ExecuteTime": {
     "end_time": "2024-12-10T14:14:07.831223Z",
     "start_time": "2024-12-10T14:14:07.593214Z"
    }
   },
   "cell_type": "code",
   "source": [
    "\n",
    "m1 = zones.explore(column='terr_zone', tiles='CartoDB positron', cmap='Dark2', categorical=True)\n",
    "\n",
    "roads.explore(m=m1, column='road_lvl', categorical=True)\n",
    "m1\n",
    "\n",
    "# roads.explore(column='road_lvl', categorical=True,tiles='CartoDB positron')\n"
   ],
   "id": "1ba923b745434c91",
   "outputs": [
    {
     "ename": "NameError",
     "evalue": "name 'zones' is not defined",
     "output_type": "error",
     "traceback": [
      "\u001B[1;31m---------------------------------------------------------------------------\u001B[0m",
      "\u001B[1;31mNameError\u001B[0m                                 Traceback (most recent call last)",
      "Cell \u001B[1;32mIn[1], line 1\u001B[0m\n\u001B[1;32m----> 1\u001B[0m m1 \u001B[38;5;241m=\u001B[39m \u001B[43mzones\u001B[49m\u001B[38;5;241m.\u001B[39mexplore(column\u001B[38;5;241m=\u001B[39m\u001B[38;5;124m'\u001B[39m\u001B[38;5;124mterr_zone\u001B[39m\u001B[38;5;124m'\u001B[39m, tiles\u001B[38;5;241m=\u001B[39m\u001B[38;5;124m'\u001B[39m\u001B[38;5;124mCartoDB positron\u001B[39m\u001B[38;5;124m'\u001B[39m, cmap\u001B[38;5;241m=\u001B[39m\u001B[38;5;124m'\u001B[39m\u001B[38;5;124mDark2\u001B[39m\u001B[38;5;124m'\u001B[39m, categorical\u001B[38;5;241m=\u001B[39m\u001B[38;5;28;01mTrue\u001B[39;00m)\n\u001B[0;32m      3\u001B[0m roads\u001B[38;5;241m.\u001B[39mexplore(m\u001B[38;5;241m=\u001B[39mm1, column\u001B[38;5;241m=\u001B[39m\u001B[38;5;124m'\u001B[39m\u001B[38;5;124mroad_lvl\u001B[39m\u001B[38;5;124m'\u001B[39m, categorical\u001B[38;5;241m=\u001B[39m\u001B[38;5;28;01mTrue\u001B[39;00m)\n\u001B[0;32m      4\u001B[0m m1\n",
      "\u001B[1;31mNameError\u001B[0m: name 'zones' is not defined"
     ]
    }
   ],
   "execution_count": 1
  },
  {
   "metadata": {
    "ExecuteTime": {
     "end_time": "2024-12-10T14:29:09.601849Z",
     "start_time": "2024-12-10T14:28:53.286038Z"
    }
   },
   "cell_type": "code",
   "source": [
    "import geopandas as gpd\n",
    "from shapely import MultiLineString\n",
    "from shapely.geometry import Point, Polygon, MultiPolygon, LineString\n",
    "from shapely.ops import polygonize\n",
    "import pandas as pd\n",
    "\n",
    "roads_width = {\"high speed highway\": 60, \"regulated highway\": 30, \"local road\": 10}\n",
    "\n",
    "roads_poly = roads.copy()\n",
    "roads_poly.geometry = roads_poly.apply(lambda x: x.geometry.buffer(roads_width.get(x.road_lvl,10) / 2), axis=1)\n",
    "\n",
    "\n",
    "def polygons_to_linestring(geom: Polygon | MultiPolygon):\n",
    "    def convert_polygon(polygon: Polygon):\n",
    "        lines = []\n",
    "        exterior = LineString(polygon.exterior.coords)\n",
    "        lines.append(exterior)\n",
    "        interior = [LineString(p.coords) for p in polygon.interiors]\n",
    "        lines = lines + interior\n",
    "        return lines\n",
    "\n",
    "    def convert_multipolygon(polygon: MultiPolygon):\n",
    "        return MultiLineString(sum([convert_polygon(p) for p in polygon.geoms], []))\n",
    "\n",
    "    if geom.geom_type == \"Polygon\":\n",
    "        return MultiLineString(convert_polygon(geom))\n",
    "    return convert_multipolygon(geom)\n",
    "\n",
    "\n",
    "all_data = pd.concat([zones, roads_poly])['geometry']\n",
    "polygons = polygonize(all_data.apply(polygons_to_linestring).union_all())\n",
    "enclosures = gpd.GeoSeries(list(polygons), crs=zones.crs)\n",
    "enclosures_points = gpd.GeoDataFrame(geometry = enclosures.representative_point(), crs=enclosures.crs).reset_index(drop=True)\n",
    "enclosures_points = enclosures_points[enclosures_points.(roads,align=False)]\n",
    "joined = gpd.sjoin(enclosures_points, zones, how=\"inner\", predicate=\"within\").reset_index()\n",
    "joined['geometry'] = enclosures\n"
   ],
   "id": "b61abb38460602e7",
   "outputs": [
    {
     "ename": "ValueError",
     "evalue": "Lengths of inputs do not match. Left: 328830, Right: 12355",
     "output_type": "error",
     "traceback": [
      "\u001B[1;31m---------------------------------------------------------------------------\u001B[0m",
      "\u001B[1;31mValueError\u001B[0m                                Traceback (most recent call last)",
      "Cell \u001B[1;32mIn[5], line 37\u001B[0m\n\u001B[0;32m     33\u001B[0m enclosures_points \u001B[38;5;241m=\u001B[39m gpd\u001B[38;5;241m.\u001B[39mGeoDataFrame(geometry \u001B[38;5;241m=\u001B[39m enclosures\u001B[38;5;241m.\u001B[39mrepresentative_point(), crs\u001B[38;5;241m=\u001B[39menclosures\u001B[38;5;241m.\u001B[39mcrs)\u001B[38;5;241m.\u001B[39mreset_index(drop\u001B[38;5;241m=\u001B[39m\u001B[38;5;28;01mTrue\u001B[39;00m)\n\u001B[0;32m     34\u001B[0m \u001B[38;5;66;03m# enclosures_points = enclosures_points[enclosures_points.intersects(roads)]\u001B[39;00m\n\u001B[0;32m     35\u001B[0m \u001B[38;5;66;03m# joined = gpd.sjoin(enclosures_points, zones, how=\"inner\", predicate=\"within\").reset_index()\u001B[39;00m\n\u001B[0;32m     36\u001B[0m \u001B[38;5;66;03m# joined['geometry'] = enclosures\u001B[39;00m\n\u001B[1;32m---> 37\u001B[0m [\u001B[43menclosures_points\u001B[49m\u001B[38;5;241;43m.\u001B[39;49m\u001B[43mintersects\u001B[49m\u001B[43m(\u001B[49m\u001B[43mroads\u001B[49m\u001B[43m,\u001B[49m\u001B[43malign\u001B[49m\u001B[38;5;241;43m=\u001B[39;49m\u001B[38;5;28;43;01mFalse\u001B[39;49;00m\u001B[43m)\u001B[49m]\n",
      "File \u001B[1;32mD:\\Programms\\PoetryCache\\virtualenvs\\genplanner-LclOAKVb-py3.11\\Lib\\site-packages\\geopandas\\base.py:3106\u001B[0m, in \u001B[0;36mGeoPandasBase.intersects\u001B[1;34m(self, other, align)\u001B[0m\n\u001B[0;32m   2997\u001B[0m \u001B[38;5;28;01mdef\u001B[39;00m \u001B[38;5;21mintersects\u001B[39m(\u001B[38;5;28mself\u001B[39m, other, align\u001B[38;5;241m=\u001B[39m\u001B[38;5;28;01mNone\u001B[39;00m):\n\u001B[0;32m   2998\u001B[0m \u001B[38;5;250m    \u001B[39m\u001B[38;5;124;03m\"\"\"Returns a ``Series`` of ``dtype('bool')`` with value ``True`` for\u001B[39;00m\n\u001B[0;32m   2999\u001B[0m \u001B[38;5;124;03m    each aligned geometry that intersects `other`.\u001B[39;00m\n\u001B[0;32m   3000\u001B[0m \n\u001B[1;32m   (...)\u001B[0m\n\u001B[0;32m   3104\u001B[0m \u001B[38;5;124;03m    GeoSeries.intersection\u001B[39;00m\n\u001B[0;32m   3105\u001B[0m \u001B[38;5;124;03m    \"\"\"\u001B[39;00m\n\u001B[1;32m-> 3106\u001B[0m     \u001B[38;5;28;01mreturn\u001B[39;00m \u001B[43m_binary_op\u001B[49m\u001B[43m(\u001B[49m\u001B[38;5;124;43m\"\u001B[39;49m\u001B[38;5;124;43mintersects\u001B[39;49m\u001B[38;5;124;43m\"\u001B[39;49m\u001B[43m,\u001B[49m\u001B[43m \u001B[49m\u001B[38;5;28;43mself\u001B[39;49m\u001B[43m,\u001B[49m\u001B[43m \u001B[49m\u001B[43mother\u001B[49m\u001B[43m,\u001B[49m\u001B[43m \u001B[49m\u001B[43malign\u001B[49m\u001B[43m)\u001B[49m\n",
      "File \u001B[1;32mD:\\Programms\\PoetryCache\\virtualenvs\\genplanner-LclOAKVb-py3.11\\Lib\\site-packages\\geopandas\\base.py:76\u001B[0m, in \u001B[0;36m_binary_op\u001B[1;34m(op, this, other, align, *args, **kwargs)\u001B[0m\n\u001B[0;32m     73\u001B[0m \u001B[38;5;28;01mdef\u001B[39;00m \u001B[38;5;21m_binary_op\u001B[39m(op, this, other, align, \u001B[38;5;241m*\u001B[39margs, \u001B[38;5;241m*\u001B[39m\u001B[38;5;241m*\u001B[39mkwargs):\n\u001B[0;32m     74\u001B[0m     \u001B[38;5;66;03m# type: (str, GeoSeries, GeoSeries, args/kwargs) -> Series[bool/float]\u001B[39;00m\n\u001B[0;32m     75\u001B[0m \u001B[38;5;250m    \u001B[39m\u001B[38;5;124;03m\"\"\"Binary operation on GeoSeries objects that returns a Series\"\"\"\u001B[39;00m\n\u001B[1;32m---> 76\u001B[0m     data, index \u001B[38;5;241m=\u001B[39m \u001B[43m_delegate_binary_method\u001B[49m\u001B[43m(\u001B[49m\u001B[43mop\u001B[49m\u001B[43m,\u001B[49m\u001B[43m \u001B[49m\u001B[43mthis\u001B[49m\u001B[43m,\u001B[49m\u001B[43m \u001B[49m\u001B[43mother\u001B[49m\u001B[43m,\u001B[49m\u001B[43m \u001B[49m\u001B[43malign\u001B[49m\u001B[43m,\u001B[49m\u001B[43m \u001B[49m\u001B[38;5;241;43m*\u001B[39;49m\u001B[43margs\u001B[49m\u001B[43m,\u001B[49m\u001B[43m \u001B[49m\u001B[38;5;241;43m*\u001B[39;49m\u001B[38;5;241;43m*\u001B[39;49m\u001B[43mkwargs\u001B[49m\u001B[43m)\u001B[49m\n\u001B[0;32m     77\u001B[0m     \u001B[38;5;28;01mreturn\u001B[39;00m Series(data, index\u001B[38;5;241m=\u001B[39mindex)\n",
      "File \u001B[1;32mD:\\Programms\\PoetryCache\\virtualenvs\\genplanner-LclOAKVb-py3.11\\Lib\\site-packages\\geopandas\\base.py:60\u001B[0m, in \u001B[0;36m_delegate_binary_method\u001B[1;34m(op, this, other, align, *args, **kwargs)\u001B[0m\n\u001B[0;32m     57\u001B[0m \u001B[38;5;28;01melse\u001B[39;00m:\n\u001B[0;32m     58\u001B[0m     \u001B[38;5;28;01mraise\u001B[39;00m \u001B[38;5;167;01mTypeError\u001B[39;00m(\u001B[38;5;28mtype\u001B[39m(this), \u001B[38;5;28mtype\u001B[39m(other))\n\u001B[1;32m---> 60\u001B[0m data \u001B[38;5;241m=\u001B[39m \u001B[38;5;28;43mgetattr\u001B[39;49m\u001B[43m(\u001B[49m\u001B[43ma_this\u001B[49m\u001B[43m,\u001B[49m\u001B[43m \u001B[49m\u001B[43mop\u001B[49m\u001B[43m)\u001B[49m\u001B[43m(\u001B[49m\u001B[43mother\u001B[49m\u001B[43m,\u001B[49m\u001B[43m \u001B[49m\u001B[38;5;241;43m*\u001B[39;49m\u001B[43margs\u001B[49m\u001B[43m,\u001B[49m\u001B[43m \u001B[49m\u001B[38;5;241;43m*\u001B[39;49m\u001B[38;5;241;43m*\u001B[39;49m\u001B[43mkwargs\u001B[49m\u001B[43m)\u001B[49m\n\u001B[0;32m     61\u001B[0m \u001B[38;5;28;01mreturn\u001B[39;00m data, this\u001B[38;5;241m.\u001B[39mindex\n",
      "File \u001B[1;32mD:\\Programms\\PoetryCache\\virtualenvs\\genplanner-LclOAKVb-py3.11\\Lib\\site-packages\\geopandas\\array.py:723\u001B[0m, in \u001B[0;36mGeometryArray.intersects\u001B[1;34m(self, other)\u001B[0m\n\u001B[0;32m    722\u001B[0m \u001B[38;5;28;01mdef\u001B[39;00m \u001B[38;5;21mintersects\u001B[39m(\u001B[38;5;28mself\u001B[39m, other):\n\u001B[1;32m--> 723\u001B[0m     \u001B[38;5;28;01mreturn\u001B[39;00m \u001B[38;5;28;43mself\u001B[39;49m\u001B[38;5;241;43m.\u001B[39;49m\u001B[43m_binary_method\u001B[49m\u001B[43m(\u001B[49m\u001B[38;5;124;43m\"\u001B[39;49m\u001B[38;5;124;43mintersects\u001B[39;49m\u001B[38;5;124;43m\"\u001B[39;49m\u001B[43m,\u001B[49m\u001B[43m \u001B[49m\u001B[38;5;28;43mself\u001B[39;49m\u001B[43m,\u001B[49m\u001B[43m \u001B[49m\u001B[43mother\u001B[49m\u001B[43m)\u001B[49m\n",
      "File \u001B[1;32mD:\\Programms\\PoetryCache\\virtualenvs\\genplanner-LclOAKVb-py3.11\\Lib\\site-packages\\geopandas\\array.py:694\u001B[0m, in \u001B[0;36mGeometryArray._binary_method\u001B[1;34m(op, left, right, **kwargs)\u001B[0m\n\u001B[0;32m    690\u001B[0m \u001B[38;5;28;01mif\u001B[39;00m \u001B[38;5;28mlen\u001B[39m(left) \u001B[38;5;241m!=\u001B[39m \u001B[38;5;28mlen\u001B[39m(right):\n\u001B[0;32m    691\u001B[0m     msg \u001B[38;5;241m=\u001B[39m \u001B[38;5;124m\"\u001B[39m\u001B[38;5;124mLengths of inputs do not match. Left: \u001B[39m\u001B[38;5;132;01m{0}\u001B[39;00m\u001B[38;5;124m, Right: \u001B[39m\u001B[38;5;132;01m{1}\u001B[39;00m\u001B[38;5;124m\"\u001B[39m\u001B[38;5;241m.\u001B[39mformat(\n\u001B[0;32m    692\u001B[0m         \u001B[38;5;28mlen\u001B[39m(left), \u001B[38;5;28mlen\u001B[39m(right)\n\u001B[0;32m    693\u001B[0m     )\n\u001B[1;32m--> 694\u001B[0m     \u001B[38;5;28;01mraise\u001B[39;00m \u001B[38;5;167;01mValueError\u001B[39;00m(msg)\n\u001B[0;32m    695\u001B[0m \u001B[38;5;28;01mif\u001B[39;00m \u001B[38;5;129;01mnot\u001B[39;00m _check_crs(left, right):\n\u001B[0;32m    696\u001B[0m     _crs_mismatch_warn(left, right, stacklevel\u001B[38;5;241m=\u001B[39m\u001B[38;5;241m7\u001B[39m)\n",
      "\u001B[1;31mValueError\u001B[0m: Lengths of inputs do not match. Left: 328830, Right: 12355"
     ]
    }
   ],
   "execution_count": 5
  },
  {
   "metadata": {
    "ExecuteTime": {
     "start_time": "2024-12-10T14:21:37.638170Z"
    }
   },
   "cell_type": "code",
   "source": "data.explore()",
   "id": "6a526638ecf5bbf8",
   "outputs": [],
   "execution_count": null
  },
  {
   "metadata": {},
   "cell_type": "code",
   "source": "zones.to_file('zones.gpkg', driver='GPKG')",
   "id": "3fc50a8540f8e279",
   "outputs": [],
   "execution_count": null
  },
  {
   "metadata": {},
   "cell_type": "code",
   "source": [
    "# тут вызовы по сценариям по разным территориям, везде basic по умолчанию, но другие лежат в zoning.\n",
    "\n",
    "\n",
    "from gen_planner.python.src.genplanner import GenPlanner\n",
    "from zoning import func_zones, terr_zones, basic_scenario\n",
    "import geopandas as gpd\n",
    "\n",
    "zones, roads = GenPlanner(gpd.read_file('project Шлиссельбург.geojson')).district2zone2block(basic_scenario)\n",
    "zones.geometry = zones.geometry.buffer(-10)\n",
    "roads.geometry = roads.geometry.buffer(10)\n",
    "m1 = zones.explore(column='terr_zone', tiles='CartoDB positron', cmap='Dark2', categorical=True)\n",
    "roads.explore(m=m1, column='road_lvl', cmap='Dark2', categorical=True)"
   ],
   "id": "efff86ffd64496db",
   "outputs": [],
   "execution_count": null
  },
  {
   "metadata": {},
   "cell_type": "code",
   "source": [
    "res, roads = GenPlanner(gpd.read_file('Аэродром_лодейнопольское_поселение.geojson')).district2zone2block(basic_scenario)\n",
    "res.explore(column='func_zone', tiles='CartoDB positron', cmap='Dark2')"
   ],
   "id": "fc279e9958e0e728",
   "outputs": [],
   "execution_count": null
  },
  {
   "metadata": {},
   "cell_type": "code",
   "source": [
    "import geopandas as gpd\n",
    "from gen_planner.python.src.genplanner import GenPlanner\n",
    "from zoning import func_zones, basic_scenario\n",
    "\n",
    "res, roads = GenPlanner(gpd.read_file('светогорск.geojson')).district2zone2block(basic_scenario)\n",
    "res.explore(column='func_zone', tiles='CartoDB positron', cmap='Dark2')"
   ],
   "id": "bb2f21bfd41b3422",
   "outputs": [],
   "execution_count": null
  },
  {
   "metadata": {},
   "cell_type": "code",
   "source": [
    "# тут вызов деления территориальной зоны на кварталы по минимальному размеру терр.зоны\n",
    "import geopandas as gpd\n",
    "from gen_planner.python.src.genplanner import GenPlanner\n",
    "from zoning import terr_zones\n",
    "\n",
    "res, roads = GenPlanner(gpd.read_file('светогорск.geojson')).zone2block(terr_zones.residential)\n",
    "res.explore(column='terr_zone', tiles='CartoDB positron', cmap='Dark2')"
   ],
   "id": "1847b02a16417cfe",
   "outputs": [],
   "execution_count": null
  },
  {
   "metadata": {},
   "cell_type": "code",
   "source": "",
   "id": "56766cdea970c584",
   "outputs": [],
   "execution_count": null
  }
 ],
 "metadata": {
  "kernelspec": {
   "display_name": "Python 3",
   "language": "python",
   "name": "python3"
  },
  "language_info": {
   "codemirror_mode": {
    "name": "ipython",
    "version": 2
   },
   "file_extension": ".py",
   "mimetype": "text/x-python",
   "name": "python",
   "nbconvert_exporter": "python",
   "pygments_lexer": "ipython2",
   "version": "2.7.6"
  }
 },
 "nbformat": 4,
 "nbformat_minor": 5
}
