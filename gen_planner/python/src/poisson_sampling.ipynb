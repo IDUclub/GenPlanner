{
 "cells": [
  {
   "metadata": {},
   "cell_type": "code",
   "source": [
    "# Пример вызова генплана на большой территории \n",
    "\n",
    "import geopandas as gpd\n",
    "import pandas as pd\n",
    "\n",
    "from gen_planner.python.src import GenPlanner,func_zones, gen_plan\n",
    "\n",
    "zones, roads = GenPlanner(gpd.read_file('1.gpkg'), rotation=0).terr2district2zone2block(gen_plan)\n"
   ],
   "id": "465d36997f12a883",
   "outputs": [],
   "execution_count": null
  },
  {
   "metadata": {},
   "cell_type": "code",
   "source": [
    "zones.to_file('zones.gpkg')\n",
    "roads.to_file('roads.gpkg')"
   ],
   "id": "4dfec222902e17c4",
   "outputs": [],
   "execution_count": null
  },
  {
   "metadata": {},
   "cell_type": "code",
   "source": [
    "m1 = zones.explore(column='terr_zone', tiles='CartoDB positron', cmap='Dark2', categorical=True)\n",
    "roads.explore(m=m1, column='road_lvl', categorical=True)\n",
    "m1"
   ],
   "id": "1ba923b745434c91",
   "outputs": [],
   "execution_count": null
  },
  {
   "metadata": {},
   "cell_type": "code",
   "source": [
    "# тут вызовы по сценариям по разным территориям, везде basic по умолчанию, но другие лежат в zoning.\n",
    "\n",
    "\n",
    "from gen_planner.python.src import GenPlanner,basic_func_zone\n",
    "import geopandas as gpd\n",
    "\n",
    "zones, roads = GenPlanner(gpd.read_file('project Шлиссельбург.geojson')).district2zone2block(basic_func_zone)\n",
    "m1 = zones.explore(column='terr_zone', tiles='CartoDB positron', cmap='Dark2', categorical=True)\n",
    "roads.explore(m=m1, column='road_lvl', cmap='Dark2', categorical=True)"
   ],
   "id": "efff86ffd64496db",
   "outputs": [],
   "execution_count": null
  },
  {
   "metadata": {},
   "cell_type": "code",
   "source": [
    "from gen_planner.python.src import GenPlanner,basic_func_zone\n",
    "import geopandas as gpd\n",
    "zones, roads = GenPlanner(gpd.read_file('Аэродром_лодейнопольское_поселение.geojson')).district2zone2block(basic_func_zone)\n",
    "m1 = zones.explore(column='terr_zone', tiles='CartoDB positron', cmap='Dark2', categorical=True)\n",
    "roads.explore(m=m1, column='road_lvl', cmap='Dark2', categorical=True)"
   ],
   "id": "fc279e9958e0e728",
   "outputs": [],
   "execution_count": null
  },
  {
   "metadata": {},
   "cell_type": "code",
   "source": [
    "from gen_planner.python.src import GenPlanner,basic_func_zone\n",
    "import geopandas as gpd\n",
    "\n",
    "zones, roads = GenPlanner(gpd.read_file('светогорск.geojson')).district2zone2block(basic_func_zone)\n",
    "m1 = zones.explore(column='terr_zone', tiles='CartoDB positron', cmap='Dark2', categorical=True)\n",
    "roads.explore(m=m1, column='road_lvl', cmap='Dark2', categorical=True)"
   ],
   "id": "bb2f21bfd41b3422",
   "outputs": [],
   "execution_count": null
  },
  {
   "metadata": {},
   "cell_type": "code",
   "source": [
    "# тут вызов деления территориальной зоны на кварталы по минимальному размеру терр.зоны\n",
    "from gen_planner.python.src import GenPlanner,basic_func_zone,terr_zones\n",
    "import geopandas as gpd\n",
    "zones, roads = GenPlanner(gpd.read_file('светогорск.geojson')).zone2block(terr_zones.residential_terr)\n",
    "m1 = zones.explore(column='terr_zone', tiles='CartoDB positron', cmap='Dark2', categorical=True)\n",
    "roads.explore(m=m1, column='road_lvl', cmap='Dark2', categorical=True)"
   ],
   "id": "1847b02a16417cfe",
   "outputs": [],
   "execution_count": null
  },
  {
   "metadata": {},
   "cell_type": "code",
   "source": "0.3",
   "id": "56766cdea970c584",
   "outputs": [],
   "execution_count": null
  }
 ],
 "metadata": {
  "kernelspec": {
   "display_name": "Python 3",
   "language": "python",
   "name": "python3"
  },
  "language_info": {
   "codemirror_mode": {
    "name": "ipython",
    "version": 2
   },
   "file_extension": ".py",
   "mimetype": "text/x-python",
   "name": "python",
   "nbconvert_exporter": "python",
   "pygments_lexer": "ipython2",
   "version": "2.7.6"
  }
 },
 "nbformat": 4,
 "nbformat_minor": 5
}
