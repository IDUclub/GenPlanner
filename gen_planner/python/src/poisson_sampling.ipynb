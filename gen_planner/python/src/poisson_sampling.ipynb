{
 "cells": [
  {
   "metadata": {},
   "cell_type": "code",
   "source": [
    "# Пример вызова генплана на большой территории \n",
    "\n",
    "import geopandas as gpd\n",
    "from gen_planner.python.src.genplanner import GenPlanner\n",
    "from zoning import func_zones, basic_scenario, gen_plan\n",
    "\n",
    "zones, roads = GenPlanner(gpd.read_file('1.gpkg'), rotation=0).terr2district2zone2block(gen_plan)"
   ],
   "id": "465d36997f12a883",
   "outputs": [],
   "execution_count": null
  },
  {
   "metadata": {},
   "cell_type": "code",
   "source": [
    "\n",
    "m1 = zones.explore(column='terr_zone', tiles='CartoDB positron', cmap='Dark2', categorical=True)\n",
    "\n",
    "roads.explore(m=m1,column='road_lvl', categorical=True)\n",
    "m1\n",
    "\n",
    "# roads.explore(column='road_lvl', categorical=True,tiles='CartoDB positron')\n"
   ],
   "id": "1ba923b745434c91",
   "outputs": [],
   "execution_count": null
  },
  {
   "metadata": {},
   "cell_type": "code",
   "source": [
    "# тут вызовы по сценариям по разным территориям, везде basic по умолчанию, но другие лежат в zoning.\n",
    "\n",
    "\n",
    "from gen_planner.python.src.genplanner import GenPlanner\n",
    "from zoning import func_zones, terr_zones, basic_scenario\n",
    "import geopandas as gpd\n",
    "\n",
    "zones, roads = GenPlanner(gpd.read_file('project Шлиссельбург.geojson')).district2zone2block(basic_scenario)\n",
    "zones.geometry = zones.geometry.buffer(-10)\n",
    "roads.geometry = roads.geometry.buffer(10)\n",
    "m1 = zones.explore(column='terr_zone', tiles='CartoDB positron', cmap='Dark2', categorical=True)\n",
    "roads.explore(m=m1, column='road_lvl', cmap='Dark2', categorical=True)"
   ],
   "id": "efff86ffd64496db",
   "outputs": [],
   "execution_count": null
  },
  {
   "metadata": {},
   "cell_type": "code",
   "source": [
    "res, roads = GenPlanner(gpd.read_file('Аэродром_лодейнопольское_поселение.geojson')).district2zone2block(basic_scenario)\n",
    "res.explore(column='func_zone', tiles='CartoDB positron', cmap='Dark2')"
   ],
   "id": "fc279e9958e0e728",
   "outputs": [],
   "execution_count": null
  },
  {
   "metadata": {},
   "cell_type": "code",
   "source": [
    "import geopandas as gpd\n",
    "from gen_planner.python.src.genplanner import GenPlanner\n",
    "from zoning import func_zones, basic_scenario\n",
    "\n",
    "res, roads = GenPlanner(gpd.read_file('светогорск.geojson')).district2zone2block(basic_scenario)\n",
    "res.explore(column='func_zone', tiles='CartoDB positron', cmap='Dark2')"
   ],
   "id": "bb2f21bfd41b3422",
   "outputs": [],
   "execution_count": null
  },
  {
   "metadata": {},
   "cell_type": "code",
   "source": [
    "# тут вызов деления территориальной зоны на кварталы по минимальному размеру терр.зоны\n",
    "import geopandas as gpd\n",
    "from gen_planner.python.src.genplanner import GenPlanner\n",
    "from zoning import terr_zones\n",
    "\n",
    "res, roads = GenPlanner(gpd.read_file('светогорск.geojson')).zone2block(terr_zones.residential)\n",
    "res.explore(column='terr_zone', tiles='CartoDB positron', cmap='Dark2')"
   ],
   "id": "1847b02a16417cfe",
   "outputs": [],
   "execution_count": null
  },
  {
   "metadata": {},
   "cell_type": "code",
   "source": "",
   "id": "56766cdea970c584",
   "outputs": [],
   "execution_count": null
  }
 ],
 "metadata": {
  "kernelspec": {
   "display_name": "Python 3",
   "language": "python",
   "name": "python3"
  },
  "language_info": {
   "codemirror_mode": {
    "name": "ipython",
    "version": 2
   },
   "file_extension": ".py",
   "mimetype": "text/x-python",
   "name": "python",
   "nbconvert_exporter": "python",
   "pygments_lexer": "ipython2",
   "version": "2.7.6"
  }
 },
 "nbformat": 4,
 "nbformat_minor": 5
}
