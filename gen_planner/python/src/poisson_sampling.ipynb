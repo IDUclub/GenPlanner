{
 "cells": [
  {
   "metadata": {},
   "cell_type": "code",
   "source": [
    "import pandas as pd\n",
    "\n",
    "import numpy as np\n",
    "from geopandas import sjoin\n",
    "\n",
    "from scipy.stats.qmc import PoissonDisk\n",
    "from shapely import Point, Polygon, MultiPolygon\n",
    "import geopandas as gpd\n"
   ],
   "id": "51baf941010013ef",
   "outputs": [],
   "execution_count": null
  },
  {
   "metadata": {},
   "cell_type": "code",
   "source": [
    "\n",
    "local_crs = 32636\n",
    "border: Polygon = gpd.read_file('shlis.gpkg').to_crs(local_crs).union_all()\n",
    "areas_dict = {'industrial': 0.2,\n",
    "              'residential': 0.5,\n",
    "              'recreation': 0.1,\n",
    "              'business': 0.1,\n",
    "              'agro':0.1}"
   ],
   "id": "7b6f16a2ac0cf737",
   "outputs": [],
   "execution_count": null
  },
  {
   "metadata": {},
   "cell_type": "code",
   "source": [
    "from gen_planner.python.src.genplanner import GenPlanner\n",
    "from shapely.ops import unary_union\n",
    "gp = GenPlanner(gpd.read_file('shlis.gpkg'))\n",
    "p = gp._generate_blocks(border)\n",
    "unary_union([p.exterior,p.buffer(0.02).exterior])"
   ],
   "id": "dc988b2c88032d98",
   "outputs": [],
   "execution_count": null
  },
  {
   "metadata": {},
   "cell_type": "code",
   "source": [
    "from shapely.geometry import Polygon\n",
    "import math\n",
    "from typing import List, Tuple\n",
    "\n",
    "def rectangle_angle(rect: Polygon) -> tuple:\n",
    "    if not isinstance(rect, Polygon) or len(rect.exterior.coords) != 5:\n",
    "        raise ValueError(\"Переданный объект не является прямоугольником.\")\n",
    "    coords = list(rect.exterior.coords)[:-1]\n",
    "    sides = [(coords[0], coords[1]),(coords[1], coords[2])]\n",
    "        \n",
    "    lengths = [\n",
    "        math.sqrt((x2 - x1) ** 2 + (y2 - y1) ** 2)\n",
    "        for (x1, y1), (x2, y2) in sides\n",
    "    ]\n",
    "    long_side_idx = lengths.index(max(lengths))\n",
    "    long_side = sides[long_side_idx]\n",
    "\n",
    "    (x1, y1), (x2, y2) = long_side\n",
    "    angle_rad = math.atan2(y2 - y1, x2 - x1)  \n",
    "    return angle_rad\n",
    "\n",
    "\n",
    "def rotate_coordinates(coords: list, pivot: Point, angle_rad: float) -> List[Tuple[float, float]]:\n",
    "    px, py = pivot.x, pivot.y\n",
    "    rotated_coords = []\n",
    "    for x, y in coords:\n",
    "        translated_x = x - px\n",
    "        translated_y = y - py\n",
    "        \n",
    "        rotated_x = translated_x * math.cos(angle_rad) - translated_y * math.sin(angle_rad)\n",
    "        rotated_y = translated_x * math.sin(angle_rad) + translated_y * math.cos(angle_rad)\n",
    "\n",
    "        final_x = rotated_x + px\n",
    "        final_y = rotated_y + py\n",
    "        rotated_coords.append((final_x, final_y))\n",
    "    return rotated_coords\n",
    "\n",
    "angle = rectangle_angle(border.minimum_rotated_rectangle)\n",
    "\n",
    "rotated = rotate_coordinates(border.exterior.coords, border.centroid, -angle)\n",
    "rotated_bounds = Polygon(rotated)\n",
    "\n"
   ],
   "id": "14f254ba3e99b068",
   "outputs": [],
   "execution_count": null
  },
  {
   "metadata": {},
   "cell_type": "code",
   "source": [
    "\n",
    "def normalize_polygon(polygon, bounds):\n",
    "    if not isinstance(polygon, Polygon):\n",
    "        raise ValueError(\"Input must be a Shapely Polygon\")\n",
    "\n",
    "    minx, miny, maxx, maxy = bounds\n",
    "    width = maxx - minx\n",
    "    height = maxy - miny\n",
    "    scale = max(width, height)\n",
    "\n",
    "    # Центрирование полигона\n",
    "    cx, cy = (minx + maxx) / 2, (miny + maxy) / 2\n",
    "    normalized_coords = [\n",
    "        ((x - cx) / scale + 0.5, (y - cy) / scale + 0.5)\n",
    "        for x, y in polygon.exterior.coords\n",
    "    ]\n",
    "\n",
    "    return Polygon(normalized_coords)\n",
    "\n",
    "bounds = rotated_bounds.bounds\n",
    "normalized_border = normalize_polygon(rotated_bounds.buffer(5), bounds)\n"
   ],
   "id": "842f76669ac7305a",
   "outputs": [],
   "execution_count": null
  },
  {
   "metadata": {},
   "cell_type": "code",
   "source": [
    "\n",
    "def generate_points(area_to_fill: Polygon | MultiPolygon, radius, seed=None):\n",
    "    if seed is None:\n",
    "        seed = np.random.default_rng()\n",
    "\n",
    "    bbox = area_to_fill.envelope\n",
    "    min_x, min_y, max_x, max_y = bbox.bounds\n",
    "\n",
    "    width = max_x - min_x\n",
    "    height = max_y - min_y\n",
    "\n",
    "    norm_radius = radius / max(width, height)\n",
    "\n",
    "    engine = PoissonDisk(d=2, radius=norm_radius, seed=seed)\n",
    "    points = engine.random(int(bbox.area // (math.pi * radius ** 2)) * 10)\n",
    "\n",
    "    points[:, 0] = points[:, 0] * width + min_x\n",
    "    points[:, 1] = points[:, 1] * height + min_y\n",
    "\n",
    "    points_in_polygon = np.array([point for point in points if area_to_fill.contains(Point(point))])\n",
    "\n",
    "    return points_in_polygon\n",
    "\n",
    "\n",
    "poisson_points = generate_points(normalized_border, 0.1)\n",
    "# m1 = gpd.GeoDataFrame(geometry=[border],crs=local_crs).explore()\n",
    "# gpd.GeoDataFrame(geometry=points,crs=local_crs).explore(m=m1,color='red')"
   ],
   "id": "2a2cb0c38d9b10b5",
   "outputs": [],
   "execution_count": null
  },
  {
   "metadata": {},
   "cell_type": "code",
   "source": "",
   "id": "9b66eed5ee2c2372",
   "outputs": [],
   "execution_count": null
  },
  {
   "metadata": {},
   "cell_type": "code",
   "source": [
    "full_area = normalized_border.area\n",
    "areas = pd.DataFrame(list(areas_dict.items()), columns=['zone_name', 'ratio'])\n",
    "areas['ratio'] = areas['ratio'] / areas['ratio'].sum()\n",
    "areas['area'] = areas['ratio'] * full_area\n",
    "areas.sort_values(by='ratio', ascending=True, inplace=True)\n",
    "area_per_site = full_area / (len(poisson_points))\n",
    "areas['site_indeed'] = round(areas['area'] / area_per_site).astype(int)\n",
    "zones = np.random.permutation(np.repeat(areas.index, areas['site_indeed']))\n",
    "poisson_points = poisson_points[:len(zones)]\n",
    "zones = zones[:len(poisson_points)].astype(int)"
   ],
   "id": "c8a66bf5254d8e06",
   "outputs": [],
   "execution_count": null
  },
  {
   "metadata": {},
   "cell_type": "code",
   "source": "normalized_border = [round(item, 8) for sublist in normalized_border.exterior.coords[::-1] for item in sublist]",
   "id": "7bf8d729208de241",
   "outputs": [],
   "execution_count": null
  },
  {
   "metadata": {},
   "cell_type": "code",
   "source": [
    "import rust_optimizer\n",
    "\n",
    "res = rust_optimizer.optimize_space(vtxl2xy=normalized_border,\n",
    "                                    site2xy=poisson_points.flatten().round(8).tolist(),\n",
    "                                    site2room=zones.tolist(),\n",
    "                                    site2xy2flag=[0.0 for _ in range(len(zones) * 2)],\n",
    "                                    room2area_trg=areas['area'].sort_index().round(8).tolist(),\n",
    "                                    room_connections=[(1,2),(1,3)],\n",
    "                                    create_gif=False\n",
    "                                    )"
   ],
   "id": "ef6867c9f5ea45d6",
   "outputs": [],
   "execution_count": null
  },
  {
   "metadata": {},
   "cell_type": "code",
   "source": [
    "from shapely.geometry import Polygon\n",
    "\n",
    "def denormalize_coords(normalized_coords, bounds):\n",
    "    minx, miny, maxx, maxy = bounds\n",
    "    width = maxx - minx\n",
    "    height = maxy - miny\n",
    "    scale = max(width, height)\n",
    "\n",
    "    cx, cy = (minx + maxx) / 2, (miny + maxy) / 2\n",
    "    denormalized_coords = [\n",
    "        (\n",
    "            (x - 0.5) * scale + cx,\n",
    "            (y - 0.5) * scale + cy\n",
    "        )\n",
    "        for x, y in normalized_coords\n",
    "    ]\n",
    "    \n",
    "    return denormalized_coords\n"
   ],
   "id": "fe9d652830b923ec",
   "outputs": [],
   "execution_count": null
  },
  {
   "metadata": {},
   "cell_type": "code",
   "source": [
    "from shapely import LineString\n",
    "from shapely.ops import polygonize, unary_union\n",
    "\n",
    "normalized_points = [x for x in np.array(res[1]).reshape(int(len(res[1])/2),2)]\n",
    "new_roads = [denormalize_coords((normalized_points[x[0]],normalized_points[x[1]]),bounds) for x in np.array(res[0]).reshape(int(len(res[0])/2),2)]\n",
    "new_roads = [LineString(x) for x in new_roads]\n",
    "\n",
    "roads_w_border = new_roads + [LineString(rotated_bounds.exterior.coords)]\n",
    "\n",
    "devided_zones = gpd.GeoDataFrame(geometry=list(polygonize((unary_union(roads_w_border).simplify(50)))),crs=local_crs)\n"
   ],
   "id": "220de8f27116b5e4",
   "outputs": [],
   "execution_count": null
  },
  {
   "metadata": {},
   "cell_type": "code",
   "source": [
    "centroids = denormalize_coords([x for x  in np.array(res[2]).reshape(int(len(res[2])/2),2)],bounds)\n",
    "centroids = gpd.GeoDataFrame(data = {'zone':zones},geometry=[Point(x) for x in centroids],crs=local_crs)\n"
   ],
   "id": "1e3295b17b39a4c8",
   "outputs": [],
   "execution_count": null
  },
  {
   "metadata": {},
   "cell_type": "code",
   "source": "devided_zones = devided_zones.sjoin(centroids, how='left').groupby('zone').agg({'geometry':'first'}).reset_index()",
   "id": "7cf3e61637aea25c",
   "outputs": [],
   "execution_count": null
  },
  {
   "metadata": {},
   "cell_type": "code",
   "source": [
    "\n",
    "devided_zones = devided_zones.merge(areas.reset_index(), left_on='zone', right_on='index').drop(columns=['index','area','site_indeed'])\n"
   ],
   "id": "a9ac04dcca06602d",
   "outputs": [],
   "execution_count": null
  },
  {
   "metadata": {},
   "cell_type": "code",
   "source": [
    "max_block_size_dict = {'industrial': 500000,\n",
    "              'residential': 500000,\n",
    "              'recreation': 400000,\n",
    "              'business': 200000,\n",
    "              'agro':400000}\n",
    "devided_zones = devided_zones.set_geometry('geometry').set_crs(local_crs)\n",
    "devided_zones['area'] = devided_zones.area\n",
    "devided_zones['n_split'] = devided_zones.apply(lambda x:x.area//max_block_size_dict.get(x.zone_name),axis=1)\n",
    "devided_zones"
   ],
   "id": "82d4ab1a169ecdc8",
   "outputs": [],
   "execution_count": null
  },
  {
   "metadata": {},
   "cell_type": "code",
   "source": [
    "test = devided_zones.set_geometry('geometry').set_crs(local_crs)\n",
    "test.geometry = test.geometry.rotate(angle, border.centroid, use_radians=True)\n",
    "test.explore(column='zone_name', cmap='viridis', tiles='CartoDB positron')"
   ],
   "id": "e042a0186212dcbc",
   "outputs": [],
   "execution_count": null
  },
  {
   "metadata": {},
   "cell_type": "code",
   "source": [
    "devided_zones_splitted=[]\n",
    "\n",
    "for i,row in devided_zones.iterrows():\n",
    "    if row.n_split > 1:\n",
    "        n_split = row.n_split\n",
    "        \n",
    "        cur_poly_bounds = row.geometry\n",
    "        bounds = cur_poly_bounds.bounds\n",
    "        normalized_border = normalize_polygon(cur_poly_bounds.buffer(5), bounds)\n",
    "        poisson_points = generate_points(normalized_border, 0.1)\n",
    "        full_area = normalized_border.area\n",
    "        \n",
    "        areas = pd.DataFrame(data=[row.zone_name for _ in range(int(n_split))], columns=['zone_name'])\n",
    "        areas['area'] = full_area/n_split\n",
    "        area_per_site = full_area / (len(poisson_points))\n",
    "        areas['site_indeed'] = round(areas['area'] / area_per_site).astype(int)\n",
    "        zones = np.random.permutation(np.repeat(areas.index, areas['site_indeed']))\n",
    "        poisson_points = poisson_points[:len(zones)]\n",
    "        zones = zones[:len(poisson_points)].astype(int)\n",
    "        normalized_border = [round(item, 8) for sublist in normalized_border.exterior.coords[::-1] for item in sublist]\n",
    "        res = rust_optimizer.optimize_space(vtxl2xy=normalized_border,\n",
    "                                            site2xy=poisson_points.flatten().round(8).tolist(),\n",
    "                                            site2room=zones.tolist(),\n",
    "                                            site2xy2flag=[0.0 for _ in range(len(zones) * 2)],\n",
    "                                            room2area_trg=areas['area'].sort_index().round(8).tolist(),\n",
    "                                            room_connections=[],\n",
    "                                            create_gif=False\n",
    "                                            )\n",
    "        normalized_points = [x for x in np.array(res[1]).reshape(int(len(res[1])/2),2)]\n",
    "        new_roads_2 = [denormalize_coords((normalized_points[x[0]],normalized_points[x[1]]),bounds) for x in np.array(res[0]).reshape(int(len(res[0])/2),2)]\n",
    "        new_roads_2 = [LineString(x) for x in new_roads_2]\n",
    "        \n",
    "        roads_w_border_2 = new_roads_2 + [LineString(cur_poly_bounds.exterior.coords)]\n",
    "        \n",
    "        devided_zones_inside = gpd.GeoDataFrame(geometry=list(polygonize((unary_union(roads_w_border_2)))),crs=local_crs)\n",
    "        centroids = denormalize_coords([x for x  in np.array(res[2]).reshape(int(len(res[2])/2),2)],bounds)\n",
    "        centroids = gpd.GeoDataFrame(data = {'zone':zones},geometry=[Point(x) for x in centroids],crs=local_crs)\n",
    "        devided_zones_inside = devided_zones_inside.sjoin(centroids, how='left').groupby('zone').agg({'geometry':'first'}).reset_index()\n",
    "        devided_zones_inside = devided_zones_inside.merge(areas.reset_index(), left_on='zone', right_on='index').drop(columns=['index','area','site_indeed'])\n",
    "        \n",
    "        devided_zones_splitted.append(devided_zones_inside)\n",
    "    else:\n",
    "        devided_zones_splitted.append(row.to_frame().transpose())\n"
   ],
   "id": "6bbb3951c903047f",
   "outputs": [],
   "execution_count": null
  },
  {
   "metadata": {},
   "cell_type": "code",
   "source": [
    "test = pd.concat(devided_zones_splitted,ignore_index=True).set_geometry('geometry').set_crs(local_crs)\n",
    "test.geometry = test.geometry.rotate(angle,border.centroid,use_radians=True)"
   ],
   "id": "484affa896fe2551",
   "outputs": [],
   "execution_count": null
  },
  {
   "metadata": {},
   "cell_type": "code",
   "source": "test.explore(column='zone_name',cmap='viridis',tiles='CartoDB positron')",
   "id": "7f95b7af212b4e53",
   "outputs": [],
   "execution_count": null
  },
  {
   "metadata": {},
   "cell_type": "code",
   "source": "",
   "id": "5aa2cb44ea07dff8",
   "outputs": [],
   "execution_count": null
  }
 ],
 "metadata": {
  "kernelspec": {
   "display_name": "Python 3",
   "language": "python",
   "name": "python3"
  },
  "language_info": {
   "codemirror_mode": {
    "name": "ipython",
    "version": 2
   },
   "file_extension": ".py",
   "mimetype": "text/x-python",
   "name": "python",
   "nbconvert_exporter": "python",
   "pygments_lexer": "ipython2",
   "version": "2.7.6"
  }
 },
 "nbformat": 4,
 "nbformat_minor": 5
}
